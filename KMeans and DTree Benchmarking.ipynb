{
 "cells": [
  {
   "cell_type": "code",
   "execution_count": 214,
   "id": "ffdaabf1",
   "metadata": {},
   "outputs": [],
   "source": [
    "import sys  \n",
    "sys.path.insert(0, '/Stats-Toolbox')\n",
    "\n",
    "from statsbox import Decision_Tree\n",
    "from statsbox import K_Means\n",
    "import pandas as pd\n",
    "import numpy as np\n",
    "from matplotlib import pyplot as plt\n",
    "import random"
   ]
  },
  {
   "cell_type": "markdown",
   "id": "544a8441",
   "metadata": {},
   "source": [
    "# Benchmark KMEANS CLUSTERING"
   ]
  },
  {
   "cell_type": "markdown",
   "id": "8c1d356f",
   "metadata": {},
   "source": [
    "### Read in a dataset for clustering"
   ]
  },
  {
   "cell_type": "code",
   "execution_count": 215,
   "id": "626375b0",
   "metadata": {},
   "outputs": [],
   "source": [
    "df = pd.read_csv(\"../wine-clustering.csv\")"
   ]
  },
  {
   "cell_type": "code",
   "execution_count": 216,
   "id": "dfddb884",
   "metadata": {},
   "outputs": [
    {
     "data": {
      "text/html": [
       "<div>\n",
       "<style scoped>\n",
       "    .dataframe tbody tr th:only-of-type {\n",
       "        vertical-align: middle;\n",
       "    }\n",
       "\n",
       "    .dataframe tbody tr th {\n",
       "        vertical-align: top;\n",
       "    }\n",
       "\n",
       "    .dataframe thead th {\n",
       "        text-align: right;\n",
       "    }\n",
       "</style>\n",
       "<table border=\"1\" class=\"dataframe\">\n",
       "  <thead>\n",
       "    <tr style=\"text-align: right;\">\n",
       "      <th></th>\n",
       "      <th>Alcohol</th>\n",
       "      <th>Malic_Acid</th>\n",
       "      <th>Ash</th>\n",
       "      <th>Ash_Alcanity</th>\n",
       "      <th>Magnesium</th>\n",
       "      <th>Total_Phenols</th>\n",
       "      <th>Flavanoids</th>\n",
       "      <th>Nonflavanoid_Phenols</th>\n",
       "      <th>Proanthocyanins</th>\n",
       "      <th>Color_Intensity</th>\n",
       "      <th>Hue</th>\n",
       "      <th>OD280</th>\n",
       "      <th>Proline</th>\n",
       "    </tr>\n",
       "  </thead>\n",
       "  <tbody>\n",
       "    <tr>\n",
       "      <th>0</th>\n",
       "      <td>14.23</td>\n",
       "      <td>1.71</td>\n",
       "      <td>2.43</td>\n",
       "      <td>15.6</td>\n",
       "      <td>127</td>\n",
       "      <td>2.80</td>\n",
       "      <td>3.06</td>\n",
       "      <td>0.28</td>\n",
       "      <td>2.29</td>\n",
       "      <td>5.64</td>\n",
       "      <td>1.04</td>\n",
       "      <td>3.92</td>\n",
       "      <td>1065</td>\n",
       "    </tr>\n",
       "    <tr>\n",
       "      <th>1</th>\n",
       "      <td>13.20</td>\n",
       "      <td>1.78</td>\n",
       "      <td>2.14</td>\n",
       "      <td>11.2</td>\n",
       "      <td>100</td>\n",
       "      <td>2.65</td>\n",
       "      <td>2.76</td>\n",
       "      <td>0.26</td>\n",
       "      <td>1.28</td>\n",
       "      <td>4.38</td>\n",
       "      <td>1.05</td>\n",
       "      <td>3.40</td>\n",
       "      <td>1050</td>\n",
       "    </tr>\n",
       "    <tr>\n",
       "      <th>2</th>\n",
       "      <td>13.16</td>\n",
       "      <td>2.36</td>\n",
       "      <td>2.67</td>\n",
       "      <td>18.6</td>\n",
       "      <td>101</td>\n",
       "      <td>2.80</td>\n",
       "      <td>3.24</td>\n",
       "      <td>0.30</td>\n",
       "      <td>2.81</td>\n",
       "      <td>5.68</td>\n",
       "      <td>1.03</td>\n",
       "      <td>3.17</td>\n",
       "      <td>1185</td>\n",
       "    </tr>\n",
       "    <tr>\n",
       "      <th>3</th>\n",
       "      <td>14.37</td>\n",
       "      <td>1.95</td>\n",
       "      <td>2.50</td>\n",
       "      <td>16.8</td>\n",
       "      <td>113</td>\n",
       "      <td>3.85</td>\n",
       "      <td>3.49</td>\n",
       "      <td>0.24</td>\n",
       "      <td>2.18</td>\n",
       "      <td>7.80</td>\n",
       "      <td>0.86</td>\n",
       "      <td>3.45</td>\n",
       "      <td>1480</td>\n",
       "    </tr>\n",
       "    <tr>\n",
       "      <th>4</th>\n",
       "      <td>13.24</td>\n",
       "      <td>2.59</td>\n",
       "      <td>2.87</td>\n",
       "      <td>21.0</td>\n",
       "      <td>118</td>\n",
       "      <td>2.80</td>\n",
       "      <td>2.69</td>\n",
       "      <td>0.39</td>\n",
       "      <td>1.82</td>\n",
       "      <td>4.32</td>\n",
       "      <td>1.04</td>\n",
       "      <td>2.93</td>\n",
       "      <td>735</td>\n",
       "    </tr>\n",
       "    <tr>\n",
       "      <th>...</th>\n",
       "      <td>...</td>\n",
       "      <td>...</td>\n",
       "      <td>...</td>\n",
       "      <td>...</td>\n",
       "      <td>...</td>\n",
       "      <td>...</td>\n",
       "      <td>...</td>\n",
       "      <td>...</td>\n",
       "      <td>...</td>\n",
       "      <td>...</td>\n",
       "      <td>...</td>\n",
       "      <td>...</td>\n",
       "      <td>...</td>\n",
       "    </tr>\n",
       "    <tr>\n",
       "      <th>173</th>\n",
       "      <td>13.71</td>\n",
       "      <td>5.65</td>\n",
       "      <td>2.45</td>\n",
       "      <td>20.5</td>\n",
       "      <td>95</td>\n",
       "      <td>1.68</td>\n",
       "      <td>0.61</td>\n",
       "      <td>0.52</td>\n",
       "      <td>1.06</td>\n",
       "      <td>7.70</td>\n",
       "      <td>0.64</td>\n",
       "      <td>1.74</td>\n",
       "      <td>740</td>\n",
       "    </tr>\n",
       "    <tr>\n",
       "      <th>174</th>\n",
       "      <td>13.40</td>\n",
       "      <td>3.91</td>\n",
       "      <td>2.48</td>\n",
       "      <td>23.0</td>\n",
       "      <td>102</td>\n",
       "      <td>1.80</td>\n",
       "      <td>0.75</td>\n",
       "      <td>0.43</td>\n",
       "      <td>1.41</td>\n",
       "      <td>7.30</td>\n",
       "      <td>0.70</td>\n",
       "      <td>1.56</td>\n",
       "      <td>750</td>\n",
       "    </tr>\n",
       "    <tr>\n",
       "      <th>175</th>\n",
       "      <td>13.27</td>\n",
       "      <td>4.28</td>\n",
       "      <td>2.26</td>\n",
       "      <td>20.0</td>\n",
       "      <td>120</td>\n",
       "      <td>1.59</td>\n",
       "      <td>0.69</td>\n",
       "      <td>0.43</td>\n",
       "      <td>1.35</td>\n",
       "      <td>10.20</td>\n",
       "      <td>0.59</td>\n",
       "      <td>1.56</td>\n",
       "      <td>835</td>\n",
       "    </tr>\n",
       "    <tr>\n",
       "      <th>176</th>\n",
       "      <td>13.17</td>\n",
       "      <td>2.59</td>\n",
       "      <td>2.37</td>\n",
       "      <td>20.0</td>\n",
       "      <td>120</td>\n",
       "      <td>1.65</td>\n",
       "      <td>0.68</td>\n",
       "      <td>0.53</td>\n",
       "      <td>1.46</td>\n",
       "      <td>9.30</td>\n",
       "      <td>0.60</td>\n",
       "      <td>1.62</td>\n",
       "      <td>840</td>\n",
       "    </tr>\n",
       "    <tr>\n",
       "      <th>177</th>\n",
       "      <td>14.13</td>\n",
       "      <td>4.10</td>\n",
       "      <td>2.74</td>\n",
       "      <td>24.5</td>\n",
       "      <td>96</td>\n",
       "      <td>2.05</td>\n",
       "      <td>0.76</td>\n",
       "      <td>0.56</td>\n",
       "      <td>1.35</td>\n",
       "      <td>9.20</td>\n",
       "      <td>0.61</td>\n",
       "      <td>1.60</td>\n",
       "      <td>560</td>\n",
       "    </tr>\n",
       "  </tbody>\n",
       "</table>\n",
       "<p>178 rows × 13 columns</p>\n",
       "</div>"
      ],
      "text/plain": [
       "     Alcohol  Malic_Acid   Ash  Ash_Alcanity  Magnesium  Total_Phenols  \\\n",
       "0      14.23        1.71  2.43          15.6        127           2.80   \n",
       "1      13.20        1.78  2.14          11.2        100           2.65   \n",
       "2      13.16        2.36  2.67          18.6        101           2.80   \n",
       "3      14.37        1.95  2.50          16.8        113           3.85   \n",
       "4      13.24        2.59  2.87          21.0        118           2.80   \n",
       "..       ...         ...   ...           ...        ...            ...   \n",
       "173    13.71        5.65  2.45          20.5         95           1.68   \n",
       "174    13.40        3.91  2.48          23.0        102           1.80   \n",
       "175    13.27        4.28  2.26          20.0        120           1.59   \n",
       "176    13.17        2.59  2.37          20.0        120           1.65   \n",
       "177    14.13        4.10  2.74          24.5         96           2.05   \n",
       "\n",
       "     Flavanoids  Nonflavanoid_Phenols  Proanthocyanins  Color_Intensity   Hue  \\\n",
       "0          3.06                  0.28             2.29             5.64  1.04   \n",
       "1          2.76                  0.26             1.28             4.38  1.05   \n",
       "2          3.24                  0.30             2.81             5.68  1.03   \n",
       "3          3.49                  0.24             2.18             7.80  0.86   \n",
       "4          2.69                  0.39             1.82             4.32  1.04   \n",
       "..          ...                   ...              ...              ...   ...   \n",
       "173        0.61                  0.52             1.06             7.70  0.64   \n",
       "174        0.75                  0.43             1.41             7.30  0.70   \n",
       "175        0.69                  0.43             1.35            10.20  0.59   \n",
       "176        0.68                  0.53             1.46             9.30  0.60   \n",
       "177        0.76                  0.56             1.35             9.20  0.61   \n",
       "\n",
       "     OD280  Proline  \n",
       "0     3.92     1065  \n",
       "1     3.40     1050  \n",
       "2     3.17     1185  \n",
       "3     3.45     1480  \n",
       "4     2.93      735  \n",
       "..     ...      ...  \n",
       "173   1.74      740  \n",
       "174   1.56      750  \n",
       "175   1.56      835  \n",
       "176   1.62      840  \n",
       "177   1.60      560  \n",
       "\n",
       "[178 rows x 13 columns]"
      ]
     },
     "execution_count": 216,
     "metadata": {},
     "output_type": "execute_result"
    }
   ],
   "source": [
    "df"
   ]
  },
  {
   "cell_type": "markdown",
   "id": "ad7c20a1",
   "metadata": {},
   "source": [
    "##### use plot_elbow( ) to find a good value of k to use "
   ]
  },
  {
   "cell_type": "markdown",
   "id": "22329212",
   "metadata": {},
   "source": [
    "Generate a numpy array from the dataset"
   ]
  },
  {
   "cell_type": "code",
   "execution_count": 217,
   "id": "53adc5b5",
   "metadata": {},
   "outputs": [],
   "source": [
    "X = df.iloc[:, 0:].values"
   ]
  },
  {
   "cell_type": "markdown",
   "id": "336cb44f",
   "metadata": {},
   "source": [
    "Now we will use the K_Means.plot_elbow() function to find out what our best K to use for this data set is.\n",
    "As we can see below, we get an elbow point at k=4"
   ]
  },
  {
   "cell_type": "code",
   "execution_count": 218,
   "id": "14089c5b",
   "metadata": {},
   "outputs": [
    {
     "data": {
      "image/png": "[encoded data removed]",
      "text/plain": [
       "<Figure size 432x288 with 1 Axes>"
      ]
     },
     "metadata": {
      "needs_background": "light"
     },
     "output_type": "display_data"
    }
   ],
   "source": [
    "K_Means.plot_elbow(X, 12)"
   ]
  },
  {
   "cell_type": "markdown",
   "id": "9a760ff3",
   "metadata": {},
   "source": [
    "##  Benchmarking for dataset 1"
   ]
  },
  {
   "cell_type": "markdown",
   "id": "00dd939e",
   "metadata": {},
   "source": [
    "###### call K.means.cluster to get clustered dataset, use sklearn.cluster.Kmeans to also get a clustered dataset, compare the two by\n",
    "######                       1. visualize clusterings using our visualization function\n",
    "######                       2. compare the cluster centroids returned by the clusterings\n",
    "######                       3. check percentage of points classified differently across the two"
   ]
  },
  {
   "cell_type": "markdown",
   "id": "c5ed9d39",
   "metadata": {},
   "source": [
    "### 1. Visualize clusterings in 2-D using K_Means.plot_clusters()"
   ]
  },
  {
   "cell_type": "markdown",
   "id": "936fc2f1",
   "metadata": {},
   "source": [
    "##### cluster using k = 2"
   ]
  },
  {
   "cell_type": "markdown",
   "id": "f504e1c0",
   "metadata": {},
   "source": [
    "###### a. statsbox Kmeans clustering"
   ]
  },
  {
   "cell_type": "code",
   "execution_count": 219,
   "id": "0eee2497",
   "metadata": {},
   "outputs": [
    {
     "data": {
      "image/png": "[encoded data removed]",
      "text/plain": [
       "<Figure size 432x288 with 1 Axes>"
      ]
     },
     "metadata": {
      "needs_background": "light"
     },
     "output_type": "display_data"
    }
   ],
   "source": [
    "cluster, centroids = K_Means.cluster(2, X)\n",
    "K_Means.plot_clusters(cluster, X)"
   ]
  },
  {
   "cell_type": "markdown",
   "id": "2ec46407",
   "metadata": {},
   "source": [
    "###### b. sklearn Kmeans clustering"
   ]
  },
  {
   "cell_type": "code",
   "execution_count": 220,
   "id": "f431b4c8",
   "metadata": {},
   "outputs": [
    {
     "data": {
      "image/png": "[encoded data removed]",
      "text/plain": [
       "<Figure size 432x288 with 1 Axes>"
      ]
     },
     "metadata": {
      "needs_background": "light"
     },
     "output_type": "display_data"
    }
   ],
   "source": [
    "from sklearn.cluster import KMeans\n",
    "kmeans = KMeans(n_clusters=2, random_state=0).fit(X)\n",
    "pred_clusters = kmeans.predict(X)\n",
    "K_Means.plot_clusters(pred_clusters, X)"
   ]
  },
  {
   "cell_type": "markdown",
   "id": "4142e536",
   "metadata": {},
   "source": [
    "##### cluster using k = 4"
   ]
  },
  {
   "cell_type": "markdown",
   "id": "ee59cd54",
   "metadata": {},
   "source": [
    "###### a. statsbox Kmeans clustering"
   ]
  },
  {
   "cell_type": "code",
   "execution_count": 221,
   "id": "f7f8e7e8",
   "metadata": {},
   "outputs": [
    {
     "data": {
      "image/png": "[encoded data removed]",
      "text/plain": [
       "<Figure size 432x288 with 1 Axes>"
      ]
     },
     "metadata": {
      "needs_background": "light"
     },
     "output_type": "display_data"
    }
   ],
   "source": [
    "cluster, centroids = K_Means.cluster(4, X)\n",
    "K_Means.plot_clusters(cluster, X)"
   ]
  },
  {
   "cell_type": "markdown",
   "id": "fbef2997",
   "metadata": {},
   "source": [
    "###### b. sklearn Kmeans clustering"
   ]
  },
  {
   "cell_type": "code",
   "execution_count": 222,
   "id": "a483be6f",
   "metadata": {},
   "outputs": [
    {
     "data": {
      "image/png": "[encoded data removed]",
      "text/plain": [
       "<Figure size 432x288 with 1 Axes>"
      ]
     },
     "metadata": {
      "needs_background": "light"
     },
     "output_type": "display_data"
    }
   ],
   "source": [
    "from sklearn.cluster import KMeans\n",
    "kmeans = KMeans(n_clusters=4, random_state=0).fit(X)\n",
    "pred_clusters = kmeans.predict(X)\n",
    "K_Means.plot_clusters(pred_clusters, X)"
   ]
  },
  {
   "cell_type": "markdown",
   "id": "43fb4dc4",
   "metadata": {},
   "source": [
    "### 2. Compare the cluster centres"
   ]
  },
  {
   "cell_type": "code",
   "execution_count": 223,
   "id": "6e8b93ac",
   "metadata": {},
   "outputs": [],
   "source": [
    "our_centroids = sorted(centroids, key=lambda x: x[0])\n",
    "sklearn_centroids=[]\n",
    "for c in kmeans.cluster_centers_:\n",
    "    sklearn_centroids.append(c)\n",
    "sklearn_centroids = sorted(sklearn_centroids, key=lambda x: x[0])"
   ]
  },
  {
   "cell_type": "markdown",
   "id": "b4ae59bb",
   "metadata": {},
   "source": [
    "#### We can see below that centroids returned by statsbox kmeans are very close to the centroids returned by sklearn"
   ]
  },
  {
   "cell_type": "code",
   "execution_count": 224,
   "id": "58af25b1",
   "metadata": {},
   "outputs": [
    {
     "name": "stdout",
     "output_type": "stream",
     "text": [
      "for centroid c0\n",
      "our     centroid   [12.51, 2.49, 2.28, 20.78, 92.22, 2.07, 1.78, 0.39, 1.46, 4.07, 0.94, 2.5, 456.29]\n",
      "sklearn centroid   [12.5, 2.44, 2.28, 20.78, 92.47, 2.07, 1.8, 0.38, 1.47, 4.07, 0.95, 2.5, 452.55]\n",
      "for centroid c1\n",
      "our     centroid   [12.91, 2.55, 2.41, 19.97, 102.58, 2.08, 1.51, 0.39, 1.45, 5.72, 0.87, 2.32, 716.25]\n",
      "sklearn centroid   [12.93, 2.66, 2.4, 19.98, 101.84, 2.05, 1.46, 0.4, 1.43, 5.75, 0.87, 2.3, 697.09]\n",
      "for centroid c2\n",
      "our     centroid   [13.67, 1.95, 2.38, 17.17, 106.5, 2.82, 2.94, 0.28, 1.95, 5.13, 1.06, 3.19, 1057.57]\n",
      "sklearn centroid   [13.53, 1.93, 2.37, 17.73, 106.5, 2.72, 2.74, 0.29, 1.88, 4.99, 1.04, 3.09, 1017.44]\n",
      "for centroid c3\n",
      "our     centroid   [13.92, 1.77, 2.5, 17.2, 106.65, 2.91, 3.08, 0.3, 1.91, 6.32, 1.12, 3.01, 1360.85]\n",
      "sklearn centroid   [13.86, 1.79, 2.51, 17.07, 106.0, 2.94, 3.11, 0.3, 1.93, 6.26, 1.1, 3.04, 1338.57]\n"
     ]
    }
   ],
   "source": [
    "for x in range(len(our_centroids)):\n",
    "    a = []\n",
    "    b = []\n",
    "    print(\"for centroid c\"+str(x))\n",
    "    for i in range(len(our_centroids[0])):\n",
    "        o = our_centroids[x][i]\n",
    "        s = sklearn_centroids[x][i]\n",
    "        a.append(round(o,2))\n",
    "        b.append(round(s,2))\n",
    "        \n",
    "    print(\"our     centroid   \" + str(a))\n",
    "    print(\"sklearn centroid   \" + str(b))    \n",
    "        \n",
    "    "
   ]
  },
  {
   "cell_type": "markdown",
   "id": "2fcae634",
   "metadata": {},
   "source": [
    "### 3. Compare the clusterings returned "
   ]
  },
  {
   "cell_type": "markdown",
   "id": "24dfc7eb",
   "metadata": {},
   "source": [
    "###### cluster ids of statsbox clustering"
   ]
  },
  {
   "cell_type": "code",
   "execution_count": 225,
   "id": "ba6627b9",
   "metadata": {},
   "outputs": [
    {
     "data": {
      "text/plain": [
       "array([2, 2, 2, 1, 0, 1, 1, 1, 2, 2, 1, 1, 1, 2, 1, 1, 1, 2, 1, 0, 0, 0,\n",
       "       2, 2, 0, 0, 2, 1, 2, 2, 1, 1, 2, 1, 2, 2, 0, 2, 2, 0, 0, 2, 2, 0,\n",
       "       0, 2, 2, 2, 2, 1, 2, 1, 2, 1, 2, 2, 2, 1, 1, 3, 0, 3, 0, 3, 3, 0,\n",
       "       3, 3, 0, 0, 0, 3, 3, 2, 0, 3, 3, 3, 0, 3, 3, 0, 0, 3, 3, 3, 3, 3,\n",
       "       0, 0, 3, 3, 3, 3, 3, 2, 0, 3, 0, 3, 0, 3, 3, 3, 0, 3, 3, 3, 3, 0,\n",
       "       3, 3, 0, 3, 3, 3, 3, 3, 3, 3, 0, 3, 3, 3, 3, 3, 3, 3, 3, 3, 0, 3,\n",
       "       3, 0, 0, 0, 0, 3, 3, 0, 0, 0, 3, 3, 0, 0, 3, 0, 0, 3, 3, 3, 3, 0,\n",
       "       0, 0, 3, 0, 0, 0, 3, 0, 3, 0, 0, 3, 0, 0, 0, 0, 3, 3, 0, 0, 0, 0,\n",
       "       0, 3])"
      ]
     },
     "execution_count": 225,
     "metadata": {},
     "output_type": "execute_result"
    }
   ],
   "source": [
    "cluster "
   ]
  },
  {
   "cell_type": "markdown",
   "id": "9d9c5f02",
   "metadata": {},
   "source": [
    "###### cluster ids of sklearn clustering"
   ]
  },
  {
   "cell_type": "code",
   "execution_count": 227,
   "id": "9dc64899",
   "metadata": {},
   "outputs": [
    {
     "data": {
      "text/plain": [
       "array([3, 3, 1, 1, 2, 1, 1, 1, 3, 3, 1, 1, 1, 3, 1, 1, 1, 3, 1, 2, 2, 2,\n",
       "       3, 3, 2, 2, 1, 1, 3, 3, 1, 1, 3, 1, 3, 3, 3, 3, 3, 2, 2, 3, 3, 2,\n",
       "       3, 3, 3, 3, 3, 1, 3, 1, 1, 1, 3, 3, 3, 1, 1, 0, 2, 0, 2, 0, 0, 2,\n",
       "       0, 0, 2, 2, 3, 0, 0, 3, 3, 0, 0, 0, 2, 0, 0, 2, 2, 0, 0, 0, 0, 0,\n",
       "       2, 2, 0, 0, 0, 0, 0, 3, 2, 0, 2, 0, 2, 0, 0, 0, 2, 0, 0, 0, 0, 2,\n",
       "       0, 0, 2, 0, 0, 0, 0, 0, 0, 0, 2, 0, 0, 0, 0, 0, 0, 0, 0, 2, 2, 0,\n",
       "       0, 2, 2, 2, 2, 0, 2, 2, 2, 2, 0, 0, 2, 2, 0, 2, 2, 0, 0, 0, 0, 2,\n",
       "       2, 2, 0, 3, 2, 2, 0, 2, 0, 2, 2, 0, 2, 2, 2, 2, 0, 0, 2, 2, 2, 2,\n",
       "       2, 0], dtype=int32)"
      ]
     },
     "execution_count": 227,
     "metadata": {},
     "output_type": "execute_result"
    }
   ],
   "source": [
    "pred_clusters"
   ]
  },
  {
   "cell_type": "markdown",
   "id": "67854ebc",
   "metadata": {},
   "source": [
    "###### change the cluster id indexes to match the order of the sklearn cluster ids (might need to be changed when run based on above two cells ^)"
   ]
  },
  {
   "cell_type": "code",
   "execution_count": 228,
   "id": "36762452",
   "metadata": {},
   "outputs": [],
   "source": [
    "cluster_ours=[]\n",
    "for c in cluster:\n",
    "    c1=0\n",
    "    if c==3:\n",
    "        c1=0\n",
    "    elif c==2:\n",
    "        c1=3\n",
    "    elif c==0:\n",
    "        c1=2\n",
    "    elif c==1:\n",
    "        c1=1\n",
    "        \n",
    "    cluster_ours.append(c1)\n"
   ]
  },
  {
   "cell_type": "markdown",
   "id": "331b6541",
   "metadata": {},
   "source": [
    "#### compare the differences in clustering"
   ]
  },
  {
   "cell_type": "code",
   "execution_count": 229,
   "id": "95919e34",
   "metadata": {},
   "outputs": [
    {
     "data": {
      "text/plain": [
       "array([ 0,  0,  2,  0,  0,  0,  0,  0,  0,  0,  0,  0,  0,  0,  0,  0,  0,\n",
       "        0,  0,  0,  0,  0,  0,  0,  0,  0,  2,  0,  0,  0,  0,  0,  0,  0,\n",
       "        0,  0, -1,  0,  0,  0,  0,  0,  0,  0, -1,  0,  0,  0,  0,  0,  0,\n",
       "        0,  2,  0,  0,  0,  0,  0,  0,  0,  0,  0,  0,  0,  0,  0,  0,  0,\n",
       "        0,  0, -1,  0,  0,  0, -1,  0,  0,  0,  0,  0,  0,  0,  0,  0,  0,\n",
       "        0,  0,  0,  0,  0,  0,  0,  0,  0,  0,  0,  0,  0,  0,  0,  0,  0,\n",
       "        0,  0,  0,  0,  0,  0,  0,  0,  0,  0,  0,  0,  0,  0,  0,  0,  0,\n",
       "        0,  0,  0,  0,  0,  0,  0,  0,  0,  0, -2,  0,  0,  0,  0,  0,  0,\n",
       "        0,  0, -2,  0,  0,  0,  0,  0,  0,  0,  0,  0,  0,  0,  0,  0,  0,\n",
       "        0,  0,  0,  0, -1,  0,  0,  0,  0,  0,  0,  0,  0,  0,  0,  0,  0,\n",
       "        0,  0,  0,  0,  0,  0,  0,  0])"
      ]
     },
     "execution_count": 229,
     "metadata": {},
     "output_type": "execute_result"
    }
   ],
   "source": [
    "cluster_ours - pred_clusters"
   ]
  },
  {
   "cell_type": "markdown",
   "id": "c75d2e1e",
   "metadata": {},
   "source": [
    "#### compute the percentage similarity between clusterings"
   ]
  },
  {
   "cell_type": "code",
   "execution_count": 230,
   "id": "ead418d3",
   "metadata": {},
   "outputs": [
    {
     "name": "stdout",
     "output_type": "stream",
     "text": [
      "0.9438202247191011\n"
     ]
    }
   ],
   "source": [
    "arr=cluster_ours - pred_clusters\n",
    "c_z=0\n",
    "for c in arr:\n",
    "    if c==0:\n",
    "        c_z+=1\n",
    "print(c_z/len(arr))"
   ]
  },
  {
   "cell_type": "markdown",
   "id": "5f220371",
   "metadata": {},
   "source": [
    "## Benchmarking for Dataset 2"
   ]
  },
  {
   "cell_type": "code",
   "execution_count": 233,
   "id": "e9275ec5",
   "metadata": {},
   "outputs": [
    {
     "data": {
      "text/html": [
       "<div>\n",
       "<style scoped>\n",
       "    .dataframe tbody tr th:only-of-type {\n",
       "        vertical-align: middle;\n",
       "    }\n",
       "\n",
       "    .dataframe tbody tr th {\n",
       "        vertical-align: top;\n",
       "    }\n",
       "\n",
       "    .dataframe thead th {\n",
       "        text-align: right;\n",
       "    }\n",
       "</style>\n",
       "<table border=\"1\" class=\"dataframe\">\n",
       "  <thead>\n",
       "    <tr style=\"text-align: right;\">\n",
       "      <th></th>\n",
       "      <th>Sl_No</th>\n",
       "      <th>Customer Key</th>\n",
       "      <th>Avg_Credit_Limit</th>\n",
       "      <th>Total_Credit_Cards</th>\n",
       "      <th>Total_visits_bank</th>\n",
       "      <th>Total_visits_online</th>\n",
       "      <th>Total_calls_made</th>\n",
       "    </tr>\n",
       "  </thead>\n",
       "  <tbody>\n",
       "    <tr>\n",
       "      <th>0</th>\n",
       "      <td>1</td>\n",
       "      <td>87073</td>\n",
       "      <td>100000</td>\n",
       "      <td>2</td>\n",
       "      <td>1</td>\n",
       "      <td>1</td>\n",
       "      <td>0</td>\n",
       "    </tr>\n",
       "    <tr>\n",
       "      <th>1</th>\n",
       "      <td>2</td>\n",
       "      <td>38414</td>\n",
       "      <td>50000</td>\n",
       "      <td>3</td>\n",
       "      <td>0</td>\n",
       "      <td>10</td>\n",
       "      <td>9</td>\n",
       "    </tr>\n",
       "    <tr>\n",
       "      <th>2</th>\n",
       "      <td>3</td>\n",
       "      <td>17341</td>\n",
       "      <td>50000</td>\n",
       "      <td>7</td>\n",
       "      <td>1</td>\n",
       "      <td>3</td>\n",
       "      <td>4</td>\n",
       "    </tr>\n",
       "    <tr>\n",
       "      <th>3</th>\n",
       "      <td>4</td>\n",
       "      <td>40496</td>\n",
       "      <td>30000</td>\n",
       "      <td>5</td>\n",
       "      <td>1</td>\n",
       "      <td>1</td>\n",
       "      <td>4</td>\n",
       "    </tr>\n",
       "    <tr>\n",
       "      <th>4</th>\n",
       "      <td>5</td>\n",
       "      <td>47437</td>\n",
       "      <td>100000</td>\n",
       "      <td>6</td>\n",
       "      <td>0</td>\n",
       "      <td>12</td>\n",
       "      <td>3</td>\n",
       "    </tr>\n",
       "    <tr>\n",
       "      <th>...</th>\n",
       "      <td>...</td>\n",
       "      <td>...</td>\n",
       "      <td>...</td>\n",
       "      <td>...</td>\n",
       "      <td>...</td>\n",
       "      <td>...</td>\n",
       "      <td>...</td>\n",
       "    </tr>\n",
       "    <tr>\n",
       "      <th>655</th>\n",
       "      <td>656</td>\n",
       "      <td>51108</td>\n",
       "      <td>99000</td>\n",
       "      <td>10</td>\n",
       "      <td>1</td>\n",
       "      <td>10</td>\n",
       "      <td>0</td>\n",
       "    </tr>\n",
       "    <tr>\n",
       "      <th>656</th>\n",
       "      <td>657</td>\n",
       "      <td>60732</td>\n",
       "      <td>84000</td>\n",
       "      <td>10</td>\n",
       "      <td>1</td>\n",
       "      <td>13</td>\n",
       "      <td>2</td>\n",
       "    </tr>\n",
       "    <tr>\n",
       "      <th>657</th>\n",
       "      <td>658</td>\n",
       "      <td>53834</td>\n",
       "      <td>145000</td>\n",
       "      <td>8</td>\n",
       "      <td>1</td>\n",
       "      <td>9</td>\n",
       "      <td>1</td>\n",
       "    </tr>\n",
       "    <tr>\n",
       "      <th>658</th>\n",
       "      <td>659</td>\n",
       "      <td>80655</td>\n",
       "      <td>172000</td>\n",
       "      <td>10</td>\n",
       "      <td>1</td>\n",
       "      <td>15</td>\n",
       "      <td>0</td>\n",
       "    </tr>\n",
       "    <tr>\n",
       "      <th>659</th>\n",
       "      <td>660</td>\n",
       "      <td>80150</td>\n",
       "      <td>167000</td>\n",
       "      <td>9</td>\n",
       "      <td>0</td>\n",
       "      <td>12</td>\n",
       "      <td>2</td>\n",
       "    </tr>\n",
       "  </tbody>\n",
       "</table>\n",
       "<p>660 rows × 7 columns</p>\n",
       "</div>"
      ],
      "text/plain": [
       "     Sl_No  Customer Key  Avg_Credit_Limit  Total_Credit_Cards  \\\n",
       "0        1         87073            100000                   2   \n",
       "1        2         38414             50000                   3   \n",
       "2        3         17341             50000                   7   \n",
       "3        4         40496             30000                   5   \n",
       "4        5         47437            100000                   6   \n",
       "..     ...           ...               ...                 ...   \n",
       "655    656         51108             99000                  10   \n",
       "656    657         60732             84000                  10   \n",
       "657    658         53834            145000                   8   \n",
       "658    659         80655            172000                  10   \n",
       "659    660         80150            167000                   9   \n",
       "\n",
       "     Total_visits_bank  Total_visits_online  Total_calls_made  \n",
       "0                    1                    1                 0  \n",
       "1                    0                   10                 9  \n",
       "2                    1                    3                 4  \n",
       "3                    1                    1                 4  \n",
       "4                    0                   12                 3  \n",
       "..                 ...                  ...               ...  \n",
       "655                  1                   10                 0  \n",
       "656                  1                   13                 2  \n",
       "657                  1                    9                 1  \n",
       "658                  1                   15                 0  \n",
       "659                  0                   12                 2  \n",
       "\n",
       "[660 rows x 7 columns]"
      ]
     },
     "execution_count": 233,
     "metadata": {},
     "output_type": "execute_result"
    }
   ],
   "source": [
    "df = pd.read_csv(\"Credit Card Customer Data.csv\")\n",
    "df"
   ]
  },
  {
   "cell_type": "markdown",
   "id": "5898793f",
   "metadata": {},
   "source": [
    "##### use plot_elbow( ) to find a good value of k to use  "
   ]
  },
  {
   "cell_type": "code",
   "execution_count": 234,
   "id": "da8b9e4b",
   "metadata": {},
   "outputs": [],
   "source": [
    "X = df.iloc[:, 1:].values"
   ]
  },
  {
   "cell_type": "code",
   "execution_count": 235,
   "id": "b31ce212",
   "metadata": {},
   "outputs": [
    {
     "data": {
      "image/png": "[encoded data removed]",
      "text/plain": [
       "<Figure size 432x288 with 1 Axes>"
      ]
     },
     "metadata": {
      "needs_background": "light"
     },
     "output_type": "display_data"
    }
   ],
   "source": [
    "K_Means.plot_elbow(X, 10)"
   ]
  },
  {
   "cell_type": "markdown",
   "id": "eb2361df",
   "metadata": {},
   "source": [
    "### 1. Visualize clusterings in 2-D using K_Means.plot_clusters()"
   ]
  },
  {
   "cell_type": "markdown",
   "id": "9255f493",
   "metadata": {},
   "source": [
    "##### cluster using k = 2"
   ]
  },
  {
   "cell_type": "markdown",
   "id": "d2c1a0e1",
   "metadata": {},
   "source": [
    "###### a. statsbox Kmeans clustering"
   ]
  },
  {
   "cell_type": "code",
   "execution_count": 236,
   "id": "2daae3bc",
   "metadata": {},
   "outputs": [
    {
     "data": {
      "image/png": "[encoded data removed]",
      "text/plain": [
       "<Figure size 432x288 with 1 Axes>"
      ]
     },
     "metadata": {
      "needs_background": "light"
     },
     "output_type": "display_data"
    }
   ],
   "source": [
    "cluster, centroids = K_Means.cluster(3, X, 0)\n",
    "K_Means.plot_clusters(cluster, X)"
   ]
  },
  {
   "cell_type": "markdown",
   "id": "03549470",
   "metadata": {},
   "source": [
    "###### a. sklearn Kmeans clustering"
   ]
  },
  {
   "cell_type": "code",
   "execution_count": 237,
   "id": "cdb4e9f1",
   "metadata": {},
   "outputs": [
    {
     "data": {
      "image/png": "[encoded data removed]",
      "text/plain": [
       "<Figure size 432x288 with 1 Axes>"
      ]
     },
     "metadata": {
      "needs_background": "light"
     },
     "output_type": "display_data"
    }
   ],
   "source": [
    "\n",
    "kmeans = KMeans(n_clusters=3, random_state=0).fit(X)\n",
    "pred_clusters = kmeans.predict(X)\n",
    "K_Means.plot_clusters(pred_clusters, X)"
   ]
  },
  {
   "cell_type": "markdown",
   "id": "b22697cc",
   "metadata": {},
   "source": [
    "### 2. Compare the cluster centres"
   ]
  },
  {
   "cell_type": "code",
   "execution_count": 238,
   "id": "1d47b20f",
   "metadata": {},
   "outputs": [],
   "source": [
    "pred_clusters = kmeans.predict(X)"
   ]
  },
  {
   "cell_type": "code",
   "execution_count": 239,
   "id": "bc92d96f",
   "metadata": {},
   "outputs": [
    {
     "name": "stdout",
     "output_type": "stream",
     "text": [
      "for centroid c0\n",
      "our     centroid   [34029.89, 23097.79, 4.41, 2.53, 2.0, 3.79]\n",
      "sklearn centroid   [34029.89, 23097.79, 4.41, 2.53, 2.0, 3.79]\n",
      "for centroid c1\n",
      "our     centroid   [56950.04, 141360.0, 8.6, 0.6, 10.62, 1.08]\n",
      "sklearn centroid   [56872.86, 142530.61, 8.57, 0.59, 10.57, 1.06]\n",
      "for centroid c2\n",
      "our     centroid   [77673.64, 28767.92, 4.36, 2.57, 1.9, 3.78]\n",
      "sklearn centroid   [77616.02, 28955.78, 4.38, 2.57, 1.94, 3.78]\n"
     ]
    }
   ],
   "source": [
    "our_centroids = sorted(centroids, key=lambda x: x[0])\n",
    "sklearn_centroids=[]\n",
    "for c in kmeans.cluster_centers_:\n",
    "    sklearn_centroids.append(c)\n",
    "sklearn_centroids = sorted(sklearn_centroids, key=lambda x: x[0])\n",
    "\n",
    "for x in range(len(our_centroids)):\n",
    "    a = []\n",
    "    b = []\n",
    "    print(\"for centroid c\"+str(x))\n",
    "    for i in range(len(our_centroids[0])):\n",
    "        o = our_centroids[x][i]\n",
    "        s = sklearn_centroids[x][i]\n",
    "        a.append(round(o,2))\n",
    "        b.append(round(s,2))\n",
    "        \n",
    "    print(\"our     centroid   \" + str(a))\n",
    "    print(\"sklearn centroid   \" + str(b))    "
   ]
  },
  {
   "cell_type": "markdown",
   "id": "1ade5b7c",
   "metadata": {},
   "source": [
    "### 3. Compare the clusterings returned "
   ]
  },
  {
   "cell_type": "code",
   "execution_count": 240,
   "id": "98d3725a",
   "metadata": {},
   "outputs": [
    {
     "data": {
      "text/plain": [
       "array([2, 0, 0, 0, 2, 1, 2, 0, 1, 0, 0, 0, 1, 0, 1, 0, 1, 1, 0, 0, 0, 1,\n",
       "       0, 1, 0, 1, 1, 0, 1, 0, 0, 0, 1, 1, 0, 0, 0, 1, 0, 0, 1, 0, 0, 0,\n",
       "       1, 1, 1, 1, 0, 1, 0, 1, 1, 0, 1, 1, 0, 0, 1, 1, 0, 0, 1, 1, 1, 1,\n",
       "       1, 1, 1, 1, 0, 0, 0, 0, 0, 1, 1, 1, 1, 0, 1, 0, 1, 0, 1, 1, 0, 0,\n",
       "       0, 0, 0, 1, 0, 1, 1, 0, 0, 0, 1, 0, 1, 1, 0, 1, 1, 0, 0, 1, 1, 0,\n",
       "       1, 1, 1, 0, 0, 0, 1, 0, 1, 1, 0, 0, 1, 1, 1, 0, 0, 1, 0, 0, 0, 1,\n",
       "       0, 0, 0, 0, 0, 1, 0, 0, 0, 1, 1, 1, 1, 0, 1, 1, 1, 0, 1, 1, 1, 0,\n",
       "       1, 0, 0, 1, 0, 1, 0, 1, 1, 1, 1, 0, 1, 0, 0, 0, 1, 1, 0, 0, 0, 0,\n",
       "       0, 0, 0, 0, 0, 1, 0, 1, 1, 1, 1, 0, 0, 0, 1, 0, 1, 0, 0, 1, 1, 0,\n",
       "       0, 0, 1, 0, 0, 0, 0, 1, 1, 0, 0, 1, 1, 0, 1, 1, 0, 0, 0, 0, 0, 1,\n",
       "       1, 1, 1, 0, 1, 1, 0, 0, 0, 0, 0, 1, 1, 0, 0, 1, 0, 0, 0, 0, 0, 1,\n",
       "       0, 1, 0, 1, 1, 0, 0, 0, 0, 0, 0, 0, 0, 0, 1, 0, 0, 0, 1, 0, 1, 0,\n",
       "       0, 0, 1, 0, 1, 0, 0, 0, 1, 0, 0, 0, 0, 0, 1, 0, 0, 0, 1, 0, 0, 1,\n",
       "       0, 1, 0, 1, 0, 1, 0, 0, 1, 0, 0, 1, 0, 1, 1, 1, 1, 0, 0, 0, 0, 0,\n",
       "       0, 1, 1, 1, 0, 1, 0, 0, 0, 1, 0, 1, 0, 0, 0, 0, 0, 1, 0, 0, 0, 0,\n",
       "       0, 0, 0, 0, 0, 1, 1, 1, 1, 0, 1, 1, 0, 1, 1, 0, 0, 0, 1, 0, 1, 1,\n",
       "       1, 1, 0, 0, 0, 1, 0, 1, 0, 1, 1, 1, 1, 0, 0, 1, 1, 1, 1, 0, 1, 1,\n",
       "       1, 0, 0, 1, 0, 0, 0, 0, 1, 0, 0, 0, 1, 0, 0, 1, 0, 1, 1, 1, 1, 0,\n",
       "       1, 1, 1, 1, 0, 1, 0, 0, 1, 1, 1, 0, 0, 1, 0, 0, 1, 1, 1, 1, 0, 1,\n",
       "       0, 1, 0, 1, 0, 1, 1, 1, 1, 1, 0, 0, 1, 0, 0, 0, 0, 0, 1, 1, 0, 0,\n",
       "       0, 0, 0, 1, 0, 0, 1, 1, 0, 0, 0, 0, 0, 1, 1, 1, 0, 1, 1, 0, 1, 1,\n",
       "       1, 1, 0, 0, 0, 1, 1, 1, 0, 0, 1, 0, 0, 1, 0, 1, 1, 0, 1, 1, 1, 0,\n",
       "       0, 1, 1, 0, 1, 0, 0, 1, 0, 0, 0, 1, 1, 0, 0, 1, 1, 1, 1, 1, 1, 1,\n",
       "       1, 0, 0, 1, 0, 1, 1, 0, 0, 0, 0, 0, 1, 0, 1, 1, 0, 1, 1, 0, 1, 1,\n",
       "       1, 0, 0, 0, 0, 0, 0, 0, 1, 1, 1, 1, 1, 0, 1, 0, 1, 1, 0, 0, 1, 1,\n",
       "       1, 0, 1, 0, 1, 0, 1, 1, 1, 1, 0, 0, 1, 1, 1, 0, 0, 1, 1, 1, 1, 0,\n",
       "       1, 1, 0, 0, 1, 1, 1, 1, 1, 1, 1, 0, 0, 1, 1, 1, 0, 0, 1, 1, 1, 1,\n",
       "       1, 0, 1, 0, 0, 1, 1, 0, 1, 0, 1, 1, 0, 1, 0, 0, 0, 1, 2, 2, 2, 2,\n",
       "       2, 2, 2, 2, 2, 2, 2, 2, 2, 2, 2, 2, 1, 2, 2, 2, 2, 2, 2, 2, 2, 2,\n",
       "       2, 2, 2, 2, 2, 2, 2, 2, 2, 2, 2, 2, 2, 2, 2, 2, 2, 2, 2, 2, 2, 2])"
      ]
     },
     "execution_count": 240,
     "metadata": {},
     "output_type": "execute_result"
    }
   ],
   "source": [
    "cluster "
   ]
  },
  {
   "cell_type": "code",
   "execution_count": 241,
   "id": "99427639",
   "metadata": {},
   "outputs": [
    {
     "data": {
      "text/plain": [
       "array([2, 1, 1, 1, 2, 0, 2, 1, 0, 1, 1, 1, 0, 1, 0, 1, 0, 0, 1, 1, 1, 0,\n",
       "       1, 0, 1, 0, 0, 1, 0, 1, 1, 1, 0, 0, 1, 1, 1, 0, 1, 1, 0, 1, 1, 1,\n",
       "       0, 0, 0, 0, 1, 0, 1, 0, 0, 1, 0, 0, 1, 1, 0, 0, 1, 1, 0, 0, 0, 0,\n",
       "       0, 0, 0, 0, 1, 1, 1, 1, 1, 0, 0, 0, 0, 1, 0, 1, 0, 1, 0, 0, 1, 1,\n",
       "       1, 1, 1, 0, 1, 0, 0, 1, 1, 1, 0, 1, 0, 0, 1, 0, 0, 1, 1, 0, 0, 1,\n",
       "       0, 0, 0, 1, 1, 1, 0, 1, 0, 0, 1, 1, 0, 0, 0, 1, 1, 0, 1, 1, 1, 0,\n",
       "       1, 1, 1, 1, 1, 0, 1, 1, 1, 0, 0, 0, 0, 1, 0, 0, 0, 1, 0, 0, 0, 1,\n",
       "       0, 1, 1, 0, 1, 0, 1, 0, 0, 0, 0, 1, 0, 1, 1, 1, 0, 0, 1, 1, 1, 1,\n",
       "       1, 1, 1, 1, 1, 0, 1, 0, 0, 0, 0, 1, 1, 1, 0, 1, 0, 1, 1, 0, 0, 1,\n",
       "       1, 1, 0, 1, 1, 1, 1, 0, 0, 1, 1, 0, 0, 1, 0, 0, 1, 1, 1, 1, 1, 0,\n",
       "       0, 0, 0, 1, 0, 0, 1, 1, 1, 1, 1, 0, 0, 1, 1, 0, 1, 1, 1, 1, 1, 0,\n",
       "       1, 0, 1, 0, 0, 1, 1, 1, 1, 1, 1, 1, 1, 1, 0, 1, 1, 1, 0, 1, 0, 1,\n",
       "       1, 1, 0, 1, 0, 1, 1, 1, 0, 1, 1, 1, 1, 1, 0, 1, 1, 1, 0, 1, 1, 0,\n",
       "       1, 0, 1, 0, 1, 0, 1, 1, 0, 1, 1, 0, 1, 0, 0, 0, 0, 1, 1, 1, 1, 1,\n",
       "       1, 0, 0, 0, 1, 0, 1, 1, 1, 0, 1, 0, 1, 1, 1, 1, 1, 0, 1, 1, 1, 1,\n",
       "       1, 1, 1, 1, 1, 0, 0, 0, 0, 1, 0, 0, 1, 0, 0, 1, 1, 1, 0, 1, 0, 0,\n",
       "       0, 0, 1, 1, 1, 0, 1, 0, 1, 0, 0, 0, 0, 1, 1, 0, 0, 0, 0, 1, 0, 0,\n",
       "       0, 1, 1, 0, 1, 1, 1, 1, 0, 1, 1, 1, 0, 1, 1, 0, 1, 0, 0, 0, 0, 1,\n",
       "       0, 0, 0, 0, 1, 0, 1, 1, 0, 0, 0, 1, 1, 0, 1, 1, 0, 0, 0, 0, 1, 0,\n",
       "       1, 0, 1, 0, 1, 0, 0, 0, 0, 0, 1, 1, 0, 1, 1, 1, 1, 1, 0, 0, 1, 1,\n",
       "       1, 1, 1, 0, 1, 1, 0, 0, 1, 1, 1, 1, 1, 0, 0, 0, 1, 0, 0, 1, 0, 0,\n",
       "       0, 0, 1, 1, 1, 0, 0, 0, 1, 1, 0, 1, 1, 0, 1, 0, 0, 1, 0, 0, 0, 1,\n",
       "       1, 0, 0, 1, 0, 1, 1, 0, 1, 1, 1, 0, 0, 1, 1, 0, 0, 0, 0, 0, 0, 0,\n",
       "       0, 1, 1, 0, 1, 0, 0, 1, 1, 1, 1, 1, 0, 1, 0, 0, 1, 0, 0, 1, 0, 0,\n",
       "       0, 1, 1, 1, 1, 1, 1, 1, 0, 0, 0, 0, 0, 1, 0, 1, 0, 0, 1, 1, 0, 0,\n",
       "       0, 1, 0, 1, 0, 1, 0, 0, 0, 0, 1, 1, 0, 0, 0, 1, 1, 0, 0, 0, 0, 1,\n",
       "       0, 0, 1, 1, 0, 0, 0, 0, 0, 0, 0, 1, 1, 0, 0, 0, 1, 1, 0, 0, 0, 0,\n",
       "       0, 1, 0, 1, 1, 0, 0, 1, 0, 1, 0, 0, 1, 0, 1, 1, 1, 0, 2, 2, 2, 2,\n",
       "       2, 2, 2, 2, 2, 2, 2, 2, 2, 2, 2, 2, 0, 2, 2, 2, 2, 2, 2, 2, 2, 2,\n",
       "       2, 2, 2, 2, 2, 2, 2, 2, 2, 2, 2, 2, 2, 2, 2, 2, 2, 2, 0, 2, 2, 2],\n",
       "      dtype=int32)"
      ]
     },
     "execution_count": 241,
     "metadata": {},
     "output_type": "execute_result"
    }
   ],
   "source": [
    "pred_clusters"
   ]
  },
  {
   "cell_type": "markdown",
   "id": "5ff85589",
   "metadata": {},
   "source": [
    "change the below code based on the above cells"
   ]
  },
  {
   "cell_type": "code",
   "execution_count": 242,
   "id": "8ef97c2e",
   "metadata": {},
   "outputs": [],
   "source": [
    "cluster_ours=[]\n",
    "pred_cluster=[]\n",
    "for c in cluster:\n",
    "    if c==0:\n",
    "        c1=1\n",
    "    elif c==1:\n",
    "        c1=0\n",
    "    elif c==2:\n",
    "        c1=2\n",
    "    cluster_ours.append(c1)\n",
    "for b in pred_clusters:\n",
    "    pred_cluster.append(b)"
   ]
  },
  {
   "cell_type": "code",
   "execution_count": 243,
   "id": "b2e4ff9e",
   "metadata": {},
   "outputs": [
    {
     "data": {
      "text/plain": [
       "array([0, 0, 0, 0, 0, 0, 0, 0, 0, 0, 0, 0, 0, 0, 0, 0, 0, 0, 0, 0, 0, 0,\n",
       "       0, 0, 0, 0, 0, 0, 0, 0, 0, 0, 0, 0, 0, 0, 0, 0, 0, 0, 0, 0, 0, 0,\n",
       "       0, 0, 0, 0, 0, 0, 0, 0, 0, 0, 0, 0, 0, 0, 0, 0, 0, 0, 0, 0, 0, 0,\n",
       "       0, 0, 0, 0, 0, 0, 0, 0, 0, 0, 0, 0, 0, 0, 0, 0, 0, 0, 0, 0, 0, 0,\n",
       "       0, 0, 0, 0, 0, 0, 0, 0, 0, 0, 0, 0, 0, 0, 0, 0, 0, 0, 0, 0, 0, 0,\n",
       "       0, 0, 0, 0, 0, 0, 0, 0, 0, 0, 0, 0, 0, 0, 0, 0, 0, 0, 0, 0, 0, 0,\n",
       "       0, 0, 0, 0, 0, 0, 0, 0, 0, 0, 0, 0, 0, 0, 0, 0, 0, 0, 0, 0, 0, 0,\n",
       "       0, 0, 0, 0, 0, 0, 0, 0, 0, 0, 0, 0, 0, 0, 0, 0, 0, 0, 0, 0, 0, 0,\n",
       "       0, 0, 0, 0, 0, 0, 0, 0, 0, 0, 0, 0, 0, 0, 0, 0, 0, 0, 0, 0, 0, 0,\n",
       "       0, 0, 0, 0, 0, 0, 0, 0, 0, 0, 0, 0, 0, 0, 0, 0, 0, 0, 0, 0, 0, 0,\n",
       "       0, 0, 0, 0, 0, 0, 0, 0, 0, 0, 0, 0, 0, 0, 0, 0, 0, 0, 0, 0, 0, 0,\n",
       "       0, 0, 0, 0, 0, 0, 0, 0, 0, 0, 0, 0, 0, 0, 0, 0, 0, 0, 0, 0, 0, 0,\n",
       "       0, 0, 0, 0, 0, 0, 0, 0, 0, 0, 0, 0, 0, 0, 0, 0, 0, 0, 0, 0, 0, 0,\n",
       "       0, 0, 0, 0, 0, 0, 0, 0, 0, 0, 0, 0, 0, 0, 0, 0, 0, 0, 0, 0, 0, 0,\n",
       "       0, 0, 0, 0, 0, 0, 0, 0, 0, 0, 0, 0, 0, 0, 0, 0, 0, 0, 0, 0, 0, 0,\n",
       "       0, 0, 0, 0, 0, 0, 0, 0, 0, 0, 0, 0, 0, 0, 0, 0, 0, 0, 0, 0, 0, 0,\n",
       "       0, 0, 0, 0, 0, 0, 0, 0, 0, 0, 0, 0, 0, 0, 0, 0, 0, 0, 0, 0, 0, 0,\n",
       "       0, 0, 0, 0, 0, 0, 0, 0, 0, 0, 0, 0, 0, 0, 0, 0, 0, 0, 0, 0, 0, 0,\n",
       "       0, 0, 0, 0, 0, 0, 0, 0, 0, 0, 0, 0, 0, 0, 0, 0, 0, 0, 0, 0, 0, 0,\n",
       "       0, 0, 0, 0, 0, 0, 0, 0, 0, 0, 0, 0, 0, 0, 0, 0, 0, 0, 0, 0, 0, 0,\n",
       "       0, 0, 0, 0, 0, 0, 0, 0, 0, 0, 0, 0, 0, 0, 0, 0, 0, 0, 0, 0, 0, 0,\n",
       "       0, 0, 0, 0, 0, 0, 0, 0, 0, 0, 0, 0, 0, 0, 0, 0, 0, 0, 0, 0, 0, 0,\n",
       "       0, 0, 0, 0, 0, 0, 0, 0, 0, 0, 0, 0, 0, 0, 0, 0, 0, 0, 0, 0, 0, 0,\n",
       "       0, 0, 0, 0, 0, 0, 0, 0, 0, 0, 0, 0, 0, 0, 0, 0, 0, 0, 0, 0, 0, 0,\n",
       "       0, 0, 0, 0, 0, 0, 0, 0, 0, 0, 0, 0, 0, 0, 0, 0, 0, 0, 0, 0, 0, 0,\n",
       "       0, 0, 0, 0, 0, 0, 0, 0, 0, 0, 0, 0, 0, 0, 0, 0, 0, 0, 0, 0, 0, 0,\n",
       "       0, 0, 0, 0, 0, 0, 0, 0, 0, 0, 0, 0, 0, 0, 0, 0, 0, 0, 0, 0, 0, 0,\n",
       "       0, 0, 0, 0, 0, 0, 0, 0, 0, 0, 0, 0, 0, 0, 0, 0, 0, 0, 0, 0, 0, 0,\n",
       "       0, 0, 0, 0, 0, 0, 0, 0, 0, 0, 0, 0, 0, 0, 0, 0, 0, 0, 0, 0, 0, 0,\n",
       "       0, 0, 0, 0, 0, 0, 0, 0, 0, 0, 0, 0, 0, 0, 0, 0, 0, 0, 2, 0, 0, 0])"
      ]
     },
     "execution_count": 243,
     "metadata": {},
     "output_type": "execute_result"
    }
   ],
   "source": [
    "cluster_ours - pred_clusters"
   ]
  },
  {
   "cell_type": "markdown",
   "id": "0fb29376",
   "metadata": {},
   "source": [
    "#### compute the percentage similarity between clusterings"
   ]
  },
  {
   "cell_type": "code",
   "execution_count": 244,
   "id": "55b454d4",
   "metadata": {},
   "outputs": [
    {
     "name": "stdout",
     "output_type": "stream",
     "text": [
      "0.9984848484848485\n"
     ]
    }
   ],
   "source": [
    "arr=cluster_ours - pred_clusters\n",
    "c_z=0\n",
    "for c in arr:\n",
    "    if c==0:\n",
    "        c_z+=1\n",
    "print(c_z/len(arr))"
   ]
  },
  {
   "cell_type": "markdown",
   "id": "bf647553",
   "metadata": {},
   "source": [
    "# Benchmarking Decision Tree"
   ]
  },
  {
   "cell_type": "code",
   "execution_count": 21,
   "id": "aeed7ad3",
   "metadata": {},
   "outputs": [
    {
     "name": "stdout",
     "output_type": "stream",
     "text": [
      "0.925\n"
     ]
    }
   ],
   "source": [
    "from sklearn.metrics import accuracy_score\n",
    "from sklearn.model_selection import train_test_split\n",
    "from sklearn.cluster import KMeans\n",
    "from statsbox import Decision_Tree\n",
    "import random\n",
    "import numpy as np\n",
    "from matplotlib import pyplot as plt\n",
    "import pandas as pd\n",
    "\n",
    "df = pd.read_csv(\"../drug200.csv\")\n",
    "col_names = ['Age', 'Sex', 'BP', 'Cholesterol', 'Na_to_K', 'Drug']\n",
    "data = df\n",
    "X = data.iloc[:, :-1].values\n",
    "Y = data.iloc[:, -1].values.reshape(-1, 1)\n",
    "X_train, X_test, Y_train, Y_test = train_test_split(\n",
    "    X, Y, test_size=.2, random_state=41)\n",
    "\n",
    "classifier = Decision_Tree.DecisionTreeClassifier(\n",
    "    min_samples_split=3, max_depth=3)\n",
    "# classifier.fit(X_train,Y_train)\n",
    "\n",
    "classifier.fit(X_train, Y_train, 'entropy')\n",
    "\n",
    "Y_pred = classifier.predict(X_test)\n",
    "print(accuracy_score(Y_test, Y_pred))\n"
   ]
  },
  {
   "cell_type": "code",
   "execution_count": 22,
   "id": "64b1fc0d",
   "metadata": {},
   "outputs": [
    {
     "data": {
      "text/html": [
       "<div>\n",
       "<style scoped>\n",
       "    .dataframe tbody tr th:only-of-type {\n",
       "        vertical-align: middle;\n",
       "    }\n",
       "\n",
       "    .dataframe tbody tr th {\n",
       "        vertical-align: top;\n",
       "    }\n",
       "\n",
       "    .dataframe thead th {\n",
       "        text-align: right;\n",
       "    }\n",
       "</style>\n",
       "<table border=\"1\" class=\"dataframe\">\n",
       "  <thead>\n",
       "    <tr style=\"text-align: right;\">\n",
       "      <th></th>\n",
       "      <th>PassengerId</th>\n",
       "      <th>Survived</th>\n",
       "      <th>Pclass</th>\n",
       "      <th>Name</th>\n",
       "      <th>Sex</th>\n",
       "      <th>Age</th>\n",
       "      <th>SibSp</th>\n",
       "      <th>Parch</th>\n",
       "      <th>Ticket</th>\n",
       "      <th>Fare</th>\n",
       "      <th>Cabin</th>\n",
       "      <th>Embarked</th>\n",
       "    </tr>\n",
       "  </thead>\n",
       "  <tbody>\n",
       "    <tr>\n",
       "      <th>0</th>\n",
       "      <td>1</td>\n",
       "      <td>0</td>\n",
       "      <td>3</td>\n",
       "      <td>Braund, Mr. Owen Harris</td>\n",
       "      <td>male</td>\n",
       "      <td>22.0</td>\n",
       "      <td>1</td>\n",
       "      <td>0</td>\n",
       "      <td>A/5 21171</td>\n",
       "      <td>7.2500</td>\n",
       "      <td>NaN</td>\n",
       "      <td>S</td>\n",
       "    </tr>\n",
       "    <tr>\n",
       "      <th>1</th>\n",
       "      <td>2</td>\n",
       "      <td>1</td>\n",
       "      <td>1</td>\n",
       "      <td>Cumings, Mrs. John Bradley (Florence Briggs Th...</td>\n",
       "      <td>female</td>\n",
       "      <td>38.0</td>\n",
       "      <td>1</td>\n",
       "      <td>0</td>\n",
       "      <td>PC 17599</td>\n",
       "      <td>71.2833</td>\n",
       "      <td>C85</td>\n",
       "      <td>C</td>\n",
       "    </tr>\n",
       "    <tr>\n",
       "      <th>2</th>\n",
       "      <td>3</td>\n",
       "      <td>1</td>\n",
       "      <td>3</td>\n",
       "      <td>Heikkinen, Miss. Laina</td>\n",
       "      <td>female</td>\n",
       "      <td>26.0</td>\n",
       "      <td>0</td>\n",
       "      <td>0</td>\n",
       "      <td>STON/O2. 3101282</td>\n",
       "      <td>7.9250</td>\n",
       "      <td>NaN</td>\n",
       "      <td>S</td>\n",
       "    </tr>\n",
       "    <tr>\n",
       "      <th>3</th>\n",
       "      <td>4</td>\n",
       "      <td>1</td>\n",
       "      <td>1</td>\n",
       "      <td>Futrelle, Mrs. Jacques Heath (Lily May Peel)</td>\n",
       "      <td>female</td>\n",
       "      <td>35.0</td>\n",
       "      <td>1</td>\n",
       "      <td>0</td>\n",
       "      <td>113803</td>\n",
       "      <td>53.1000</td>\n",
       "      <td>C123</td>\n",
       "      <td>S</td>\n",
       "    </tr>\n",
       "    <tr>\n",
       "      <th>4</th>\n",
       "      <td>5</td>\n",
       "      <td>0</td>\n",
       "      <td>3</td>\n",
       "      <td>Allen, Mr. William Henry</td>\n",
       "      <td>male</td>\n",
       "      <td>35.0</td>\n",
       "      <td>0</td>\n",
       "      <td>0</td>\n",
       "      <td>373450</td>\n",
       "      <td>8.0500</td>\n",
       "      <td>NaN</td>\n",
       "      <td>S</td>\n",
       "    </tr>\n",
       "    <tr>\n",
       "      <th>...</th>\n",
       "      <td>...</td>\n",
       "      <td>...</td>\n",
       "      <td>...</td>\n",
       "      <td>...</td>\n",
       "      <td>...</td>\n",
       "      <td>...</td>\n",
       "      <td>...</td>\n",
       "      <td>...</td>\n",
       "      <td>...</td>\n",
       "      <td>...</td>\n",
       "      <td>...</td>\n",
       "      <td>...</td>\n",
       "    </tr>\n",
       "    <tr>\n",
       "      <th>886</th>\n",
       "      <td>887</td>\n",
       "      <td>0</td>\n",
       "      <td>2</td>\n",
       "      <td>Montvila, Rev. Juozas</td>\n",
       "      <td>male</td>\n",
       "      <td>27.0</td>\n",
       "      <td>0</td>\n",
       "      <td>0</td>\n",
       "      <td>211536</td>\n",
       "      <td>13.0000</td>\n",
       "      <td>NaN</td>\n",
       "      <td>S</td>\n",
       "    </tr>\n",
       "    <tr>\n",
       "      <th>887</th>\n",
       "      <td>888</td>\n",
       "      <td>1</td>\n",
       "      <td>1</td>\n",
       "      <td>Graham, Miss. Margaret Edith</td>\n",
       "      <td>female</td>\n",
       "      <td>19.0</td>\n",
       "      <td>0</td>\n",
       "      <td>0</td>\n",
       "      <td>112053</td>\n",
       "      <td>30.0000</td>\n",
       "      <td>B42</td>\n",
       "      <td>S</td>\n",
       "    </tr>\n",
       "    <tr>\n",
       "      <th>888</th>\n",
       "      <td>889</td>\n",
       "      <td>0</td>\n",
       "      <td>3</td>\n",
       "      <td>Johnston, Miss. Catherine Helen \"Carrie\"</td>\n",
       "      <td>female</td>\n",
       "      <td>NaN</td>\n",
       "      <td>1</td>\n",
       "      <td>2</td>\n",
       "      <td>W./C. 6607</td>\n",
       "      <td>23.4500</td>\n",
       "      <td>NaN</td>\n",
       "      <td>S</td>\n",
       "    </tr>\n",
       "    <tr>\n",
       "      <th>889</th>\n",
       "      <td>890</td>\n",
       "      <td>1</td>\n",
       "      <td>1</td>\n",
       "      <td>Behr, Mr. Karl Howell</td>\n",
       "      <td>male</td>\n",
       "      <td>26.0</td>\n",
       "      <td>0</td>\n",
       "      <td>0</td>\n",
       "      <td>111369</td>\n",
       "      <td>30.0000</td>\n",
       "      <td>C148</td>\n",
       "      <td>C</td>\n",
       "    </tr>\n",
       "    <tr>\n",
       "      <th>890</th>\n",
       "      <td>891</td>\n",
       "      <td>0</td>\n",
       "      <td>3</td>\n",
       "      <td>Dooley, Mr. Patrick</td>\n",
       "      <td>male</td>\n",
       "      <td>32.0</td>\n",
       "      <td>0</td>\n",
       "      <td>0</td>\n",
       "      <td>370376</td>\n",
       "      <td>7.7500</td>\n",
       "      <td>NaN</td>\n",
       "      <td>Q</td>\n",
       "    </tr>\n",
       "  </tbody>\n",
       "</table>\n",
       "<p>891 rows × 12 columns</p>\n",
       "</div>"
      ],
      "text/plain": [
       "     PassengerId  Survived  Pclass  \\\n",
       "0              1         0       3   \n",
       "1              2         1       1   \n",
       "2              3         1       3   \n",
       "3              4         1       1   \n",
       "4              5         0       3   \n",
       "..           ...       ...     ...   \n",
       "886          887         0       2   \n",
       "887          888         1       1   \n",
       "888          889         0       3   \n",
       "889          890         1       1   \n",
       "890          891         0       3   \n",
       "\n",
       "                                                  Name     Sex   Age  SibSp  \\\n",
       "0                              Braund, Mr. Owen Harris    male  22.0      1   \n",
       "1    Cumings, Mrs. John Bradley (Florence Briggs Th...  female  38.0      1   \n",
       "2                               Heikkinen, Miss. Laina  female  26.0      0   \n",
       "3         Futrelle, Mrs. Jacques Heath (Lily May Peel)  female  35.0      1   \n",
       "4                             Allen, Mr. William Henry    male  35.0      0   \n",
       "..                                                 ...     ...   ...    ...   \n",
       "886                              Montvila, Rev. Juozas    male  27.0      0   \n",
       "887                       Graham, Miss. Margaret Edith  female  19.0      0   \n",
       "888           Johnston, Miss. Catherine Helen \"Carrie\"  female   NaN      1   \n",
       "889                              Behr, Mr. Karl Howell    male  26.0      0   \n",
       "890                                Dooley, Mr. Patrick    male  32.0      0   \n",
       "\n",
       "     Parch            Ticket     Fare Cabin Embarked  \n",
       "0        0         A/5 21171   7.2500   NaN        S  \n",
       "1        0          PC 17599  71.2833   C85        C  \n",
       "2        0  STON/O2. 3101282   7.9250   NaN        S  \n",
       "3        0            113803  53.1000  C123        S  \n",
       "4        0            373450   8.0500   NaN        S  \n",
       "..     ...               ...      ...   ...      ...  \n",
       "886      0            211536  13.0000   NaN        S  \n",
       "887      0            112053  30.0000   B42        S  \n",
       "888      2        W./C. 6607  23.4500   NaN        S  \n",
       "889      0            111369  30.0000  C148        C  \n",
       "890      0            370376   7.7500   NaN        Q  \n",
       "\n",
       "[891 rows x 12 columns]"
      ]
     },
     "execution_count": 22,
     "metadata": {},
     "output_type": "execute_result"
    }
   ],
   "source": [
    "df = pd.read_csv(\"../train.csv\")\n",
    "df"
   ]
  },
  {
   "cell_type": "code",
   "execution_count": 23,
   "id": "6f43fe27",
   "metadata": {},
   "outputs": [],
   "source": [
    "df=df.dropna()"
   ]
  },
  {
   "cell_type": "code",
   "execution_count": 24,
   "id": "cab89986",
   "metadata": {},
   "outputs": [
    {
     "data": {
      "text/html": [
       "<div>\n",
       "<style scoped>\n",
       "    .dataframe tbody tr th:only-of-type {\n",
       "        vertical-align: middle;\n",
       "    }\n",
       "\n",
       "    .dataframe tbody tr th {\n",
       "        vertical-align: top;\n",
       "    }\n",
       "\n",
       "    .dataframe thead th {\n",
       "        text-align: right;\n",
       "    }\n",
       "</style>\n",
       "<table border=\"1\" class=\"dataframe\">\n",
       "  <thead>\n",
       "    <tr style=\"text-align: right;\">\n",
       "      <th></th>\n",
       "      <th>PassengerId</th>\n",
       "      <th>Survived</th>\n",
       "      <th>Pclass</th>\n",
       "      <th>Name</th>\n",
       "      <th>Sex</th>\n",
       "      <th>Age</th>\n",
       "      <th>SibSp</th>\n",
       "      <th>Parch</th>\n",
       "      <th>Ticket</th>\n",
       "      <th>Fare</th>\n",
       "      <th>Cabin</th>\n",
       "      <th>Embarked</th>\n",
       "    </tr>\n",
       "  </thead>\n",
       "  <tbody>\n",
       "    <tr>\n",
       "      <th>1</th>\n",
       "      <td>2</td>\n",
       "      <td>1</td>\n",
       "      <td>1</td>\n",
       "      <td>Cumings, Mrs. John Bradley (Florence Briggs Th...</td>\n",
       "      <td>female</td>\n",
       "      <td>38.0</td>\n",
       "      <td>1</td>\n",
       "      <td>0</td>\n",
       "      <td>PC 17599</td>\n",
       "      <td>71.2833</td>\n",
       "      <td>C85</td>\n",
       "      <td>C</td>\n",
       "    </tr>\n",
       "    <tr>\n",
       "      <th>3</th>\n",
       "      <td>4</td>\n",
       "      <td>1</td>\n",
       "      <td>1</td>\n",
       "      <td>Futrelle, Mrs. Jacques Heath (Lily May Peel)</td>\n",
       "      <td>female</td>\n",
       "      <td>35.0</td>\n",
       "      <td>1</td>\n",
       "      <td>0</td>\n",
       "      <td>113803</td>\n",
       "      <td>53.1000</td>\n",
       "      <td>C123</td>\n",
       "      <td>S</td>\n",
       "    </tr>\n",
       "    <tr>\n",
       "      <th>6</th>\n",
       "      <td>7</td>\n",
       "      <td>0</td>\n",
       "      <td>1</td>\n",
       "      <td>McCarthy, Mr. Timothy J</td>\n",
       "      <td>male</td>\n",
       "      <td>54.0</td>\n",
       "      <td>0</td>\n",
       "      <td>0</td>\n",
       "      <td>17463</td>\n",
       "      <td>51.8625</td>\n",
       "      <td>E46</td>\n",
       "      <td>S</td>\n",
       "    </tr>\n",
       "    <tr>\n",
       "      <th>10</th>\n",
       "      <td>11</td>\n",
       "      <td>1</td>\n",
       "      <td>3</td>\n",
       "      <td>Sandstrom, Miss. Marguerite Rut</td>\n",
       "      <td>female</td>\n",
       "      <td>4.0</td>\n",
       "      <td>1</td>\n",
       "      <td>1</td>\n",
       "      <td>PP 9549</td>\n",
       "      <td>16.7000</td>\n",
       "      <td>G6</td>\n",
       "      <td>S</td>\n",
       "    </tr>\n",
       "    <tr>\n",
       "      <th>11</th>\n",
       "      <td>12</td>\n",
       "      <td>1</td>\n",
       "      <td>1</td>\n",
       "      <td>Bonnell, Miss. Elizabeth</td>\n",
       "      <td>female</td>\n",
       "      <td>58.0</td>\n",
       "      <td>0</td>\n",
       "      <td>0</td>\n",
       "      <td>113783</td>\n",
       "      <td>26.5500</td>\n",
       "      <td>C103</td>\n",
       "      <td>S</td>\n",
       "    </tr>\n",
       "    <tr>\n",
       "      <th>...</th>\n",
       "      <td>...</td>\n",
       "      <td>...</td>\n",
       "      <td>...</td>\n",
       "      <td>...</td>\n",
       "      <td>...</td>\n",
       "      <td>...</td>\n",
       "      <td>...</td>\n",
       "      <td>...</td>\n",
       "      <td>...</td>\n",
       "      <td>...</td>\n",
       "      <td>...</td>\n",
       "      <td>...</td>\n",
       "    </tr>\n",
       "    <tr>\n",
       "      <th>871</th>\n",
       "      <td>872</td>\n",
       "      <td>1</td>\n",
       "      <td>1</td>\n",
       "      <td>Beckwith, Mrs. Richard Leonard (Sallie Monypeny)</td>\n",
       "      <td>female</td>\n",
       "      <td>47.0</td>\n",
       "      <td>1</td>\n",
       "      <td>1</td>\n",
       "      <td>11751</td>\n",
       "      <td>52.5542</td>\n",
       "      <td>D35</td>\n",
       "      <td>S</td>\n",
       "    </tr>\n",
       "    <tr>\n",
       "      <th>872</th>\n",
       "      <td>873</td>\n",
       "      <td>0</td>\n",
       "      <td>1</td>\n",
       "      <td>Carlsson, Mr. Frans Olof</td>\n",
       "      <td>male</td>\n",
       "      <td>33.0</td>\n",
       "      <td>0</td>\n",
       "      <td>0</td>\n",
       "      <td>695</td>\n",
       "      <td>5.0000</td>\n",
       "      <td>B51 B53 B55</td>\n",
       "      <td>S</td>\n",
       "    </tr>\n",
       "    <tr>\n",
       "      <th>879</th>\n",
       "      <td>880</td>\n",
       "      <td>1</td>\n",
       "      <td>1</td>\n",
       "      <td>Potter, Mrs. Thomas Jr (Lily Alexenia Wilson)</td>\n",
       "      <td>female</td>\n",
       "      <td>56.0</td>\n",
       "      <td>0</td>\n",
       "      <td>1</td>\n",
       "      <td>11767</td>\n",
       "      <td>83.1583</td>\n",
       "      <td>C50</td>\n",
       "      <td>C</td>\n",
       "    </tr>\n",
       "    <tr>\n",
       "      <th>887</th>\n",
       "      <td>888</td>\n",
       "      <td>1</td>\n",
       "      <td>1</td>\n",
       "      <td>Graham, Miss. Margaret Edith</td>\n",
       "      <td>female</td>\n",
       "      <td>19.0</td>\n",
       "      <td>0</td>\n",
       "      <td>0</td>\n",
       "      <td>112053</td>\n",
       "      <td>30.0000</td>\n",
       "      <td>B42</td>\n",
       "      <td>S</td>\n",
       "    </tr>\n",
       "    <tr>\n",
       "      <th>889</th>\n",
       "      <td>890</td>\n",
       "      <td>1</td>\n",
       "      <td>1</td>\n",
       "      <td>Behr, Mr. Karl Howell</td>\n",
       "      <td>male</td>\n",
       "      <td>26.0</td>\n",
       "      <td>0</td>\n",
       "      <td>0</td>\n",
       "      <td>111369</td>\n",
       "      <td>30.0000</td>\n",
       "      <td>C148</td>\n",
       "      <td>C</td>\n",
       "    </tr>\n",
       "  </tbody>\n",
       "</table>\n",
       "<p>183 rows × 12 columns</p>\n",
       "</div>"
      ],
      "text/plain": [
       "     PassengerId  Survived  Pclass  \\\n",
       "1              2         1       1   \n",
       "3              4         1       1   \n",
       "6              7         0       1   \n",
       "10            11         1       3   \n",
       "11            12         1       1   \n",
       "..           ...       ...     ...   \n",
       "871          872         1       1   \n",
       "872          873         0       1   \n",
       "879          880         1       1   \n",
       "887          888         1       1   \n",
       "889          890         1       1   \n",
       "\n",
       "                                                  Name     Sex   Age  SibSp  \\\n",
       "1    Cumings, Mrs. John Bradley (Florence Briggs Th...  female  38.0      1   \n",
       "3         Futrelle, Mrs. Jacques Heath (Lily May Peel)  female  35.0      1   \n",
       "6                              McCarthy, Mr. Timothy J    male  54.0      0   \n",
       "10                     Sandstrom, Miss. Marguerite Rut  female   4.0      1   \n",
       "11                            Bonnell, Miss. Elizabeth  female  58.0      0   \n",
       "..                                                 ...     ...   ...    ...   \n",
       "871   Beckwith, Mrs. Richard Leonard (Sallie Monypeny)  female  47.0      1   \n",
       "872                           Carlsson, Mr. Frans Olof    male  33.0      0   \n",
       "879      Potter, Mrs. Thomas Jr (Lily Alexenia Wilson)  female  56.0      0   \n",
       "887                       Graham, Miss. Margaret Edith  female  19.0      0   \n",
       "889                              Behr, Mr. Karl Howell    male  26.0      0   \n",
       "\n",
       "     Parch    Ticket     Fare        Cabin Embarked  \n",
       "1        0  PC 17599  71.2833          C85        C  \n",
       "3        0    113803  53.1000         C123        S  \n",
       "6        0     17463  51.8625          E46        S  \n",
       "10       1   PP 9549  16.7000           G6        S  \n",
       "11       0    113783  26.5500         C103        S  \n",
       "..     ...       ...      ...          ...      ...  \n",
       "871      1     11751  52.5542          D35        S  \n",
       "872      0       695   5.0000  B51 B53 B55        S  \n",
       "879      1     11767  83.1583          C50        C  \n",
       "887      0    112053  30.0000          B42        S  \n",
       "889      0    111369  30.0000         C148        C  \n",
       "\n",
       "[183 rows x 12 columns]"
      ]
     },
     "execution_count": 24,
     "metadata": {},
     "output_type": "execute_result"
    }
   ],
   "source": [
    "df"
   ]
  },
  {
   "cell_type": "code",
   "execution_count": 25,
   "id": "1665dec0",
   "metadata": {},
   "outputs": [],
   "source": [
    "\n",
    "Y = df['Survived'].values.reshape(-1, 1)\n",
    "\n",
    "df = df.drop(['Cabin', 'Name', 'Ticket', 'Embarked', 'PassengerId', 'Survived', 'Sex'], axis=1)\n"
   ]
  },
  {
   "cell_type": "code",
   "execution_count": 26,
   "id": "c6045bfc",
   "metadata": {},
   "outputs": [],
   "source": [
    "X = df.iloc[:, :].values\n",
    "X_train, X_test, Y_train, Y_test = train_test_split(\n",
    "    X, Y, test_size=.2, random_state=41)"
   ]
  },
  {
   "cell_type": "code",
   "execution_count": 27,
   "id": "adade9f8",
   "metadata": {},
   "outputs": [],
   "source": [
    "classifier = Decision_Tree.DecisionTreeClassifier(\n",
    "    min_samples_split=1, max_depth=5)"
   ]
  },
  {
   "cell_type": "code",
   "execution_count": 28,
   "id": "eec871a1",
   "metadata": {},
   "outputs": [
    {
     "name": "stdout",
     "output_type": "stream",
     "text": [
      "0.7567567567567568\n"
     ]
    }
   ],
   "source": [
    "classifier.fit(X_train, Y_train, 'entropy')\n",
    "\n",
    "Y_pred = classifier.predict(X_test)\n",
    "print(accuracy_score(Y_test, Y_pred))"
   ]
  },
  {
   "cell_type": "code",
   "execution_count": 29,
   "id": "61720644",
   "metadata": {},
   "outputs": [
    {
     "data": {
      "text/plain": [
       "array([[  1.    ,  51.    ,   1.    ,   0.    ,  77.9583],\n",
       "       [  1.    ,  56.    ,   0.    ,   0.    ,  35.5   ],\n",
       "       [  1.    ,  41.    ,   0.    ,   0.    , 134.5   ],\n",
       "       [  1.    ,  35.    ,   1.    ,   0.    ,  90.    ],\n",
       "       [  1.    ,  32.    ,   0.    ,   0.    ,  76.2917],\n",
       "       [  1.    ,  39.    ,   0.    ,   0.    ,   0.    ],\n",
       "       [  1.    ,  36.    ,   0.    ,   0.    ,  40.125 ],\n",
       "       [  1.    ,  24.    ,   3.    ,   2.    , 263.    ],\n",
       "       [  1.    ,  29.    ,   0.    ,   0.    ,  30.    ],\n",
       "       [  1.    ,  40.    ,   0.    ,   0.    , 153.4625],\n",
       "       [  2.    ,  32.5   ,   0.    ,   0.    ,  13.    ],\n",
       "       [  1.    ,  18.    ,   0.    ,   2.    ,  79.65  ],\n",
       "       [  3.    ,  42.    ,   0.    ,   0.    ,   7.65  ],\n",
       "       [  1.    ,  54.    ,   1.    ,   0.    ,  78.2667],\n",
       "       [  1.    ,  35.    ,   1.    ,   0.    ,  83.475 ],\n",
       "       [  1.    ,  48.    ,   1.    ,   0.    ,  52.    ],\n",
       "       [  1.    ,  54.    ,   0.    ,   0.    ,  51.8625],\n",
       "       [  1.    ,  53.    ,   2.    ,   0.    ,  51.4792],\n",
       "       [  1.    ,  48.    ,   1.    ,   0.    ,  39.6   ],\n",
       "       [  1.    ,  46.    ,   1.    ,   0.    ,  61.175 ],\n",
       "       [  1.    ,  47.    ,   0.    ,   0.    ,  34.0208],\n",
       "       [  3.    ,  27.    ,   0.    ,   1.    ,  12.475 ],\n",
       "       [  1.    ,  40.    ,   0.    ,   0.    ,  31.    ],\n",
       "       [  1.    ,  15.    ,   0.    ,   1.    , 211.3375],\n",
       "       [  2.    ,  36.    ,   0.    ,   0.    ,  13.    ],\n",
       "       [  1.    ,  33.    ,   1.    ,   0.    ,  53.1   ],\n",
       "       [  1.    ,  39.    ,   1.    ,   1.    ,  83.1583],\n",
       "       [  1.    ,  48.    ,   0.    ,   0.    ,  25.9292],\n",
       "       [  1.    ,  16.    ,   0.    ,   0.    ,  86.5   ],\n",
       "       [  1.    ,  62.    ,   0.    ,   0.    ,  26.55  ],\n",
       "       [  2.    ,  57.    ,   0.    ,   0.    ,  10.5   ],\n",
       "       [  1.    ,  45.    ,   0.    ,   0.    ,  26.55  ],\n",
       "       [  1.    ,  56.    ,   0.    ,   1.    ,  83.1583],\n",
       "       [  1.    ,  30.    ,   0.    ,   0.    ,  86.5   ],\n",
       "       [  1.    ,  44.    ,   0.    ,   0.    ,  27.7208],\n",
       "       [  2.    ,  36.    ,   0.    ,   0.    ,  12.875 ],\n",
       "       [  1.    ,   4.    ,   0.    ,   2.    ,  81.8583],\n",
       "       [  1.    ,  19.    ,   0.    ,   0.    ,  30.    ],\n",
       "       [  1.    ,  47.    ,   0.    ,   0.    ,  52.    ],\n",
       "       [  1.    ,  49.    ,   1.    ,   0.    ,  76.7292],\n",
       "       [  1.    ,  36.    ,   0.    ,   0.    , 135.6333],\n",
       "       [  1.    ,  52.    ,   1.    ,   1.    ,  79.65  ],\n",
       "       [  1.    ,  33.    ,   0.    ,   0.    ,   5.    ],\n",
       "       [  1.    ,  61.    ,   0.    ,   0.    ,  32.3208],\n",
       "       [  1.    ,  16.    ,   0.    ,   1.    ,  57.9792],\n",
       "       [  1.    ,  23.    ,   1.    ,   0.    , 113.275 ],\n",
       "       [  1.    ,  61.    ,   0.    ,   0.    ,  33.5   ],\n",
       "       [  1.    ,  58.    ,   0.    ,   0.    , 146.5208],\n",
       "       [  1.    ,  49.    ,   1.    ,   0.    ,  56.9292],\n",
       "       [  3.    ,   4.    ,   1.    ,   1.    ,  16.7   ],\n",
       "       [  1.    ,  32.    ,   0.    ,   0.    ,  30.5   ],\n",
       "       [  2.    ,   2.    ,   1.    ,   1.    ,  26.    ],\n",
       "       [  1.    ,  36.    ,   0.    ,   1.    , 512.3292],\n",
       "       [  1.    ,  35.    ,   0.    ,   0.    ,  26.2875],\n",
       "       [  1.    ,  23.    ,   0.    ,   1.    ,  63.3583],\n",
       "       [  1.    ,  30.    ,   0.    ,   0.    ,  56.9292],\n",
       "       [  1.    ,  39.    ,   1.    ,   1.    , 110.8833],\n",
       "       [  2.    ,  36.5   ,   0.    ,   2.    ,  26.    ],\n",
       "       [  1.    ,  19.    ,   3.    ,   2.    , 263.    ],\n",
       "       [  1.    ,  30.    ,   0.    ,   0.    ,  93.5   ],\n",
       "       [  1.    ,  35.    ,   1.    ,   0.    ,  53.1   ],\n",
       "       [  1.    ,  44.    ,   0.    ,   1.    ,  57.9792],\n",
       "       [  1.    ,  58.    ,   0.    ,   0.    ,  29.7   ],\n",
       "       [  1.    ,  25.    ,   1.    ,   2.    , 151.55  ],\n",
       "       [  1.    ,  38.    ,   1.    ,   0.    ,  71.2833],\n",
       "       [  1.    ,  47.    ,   0.    ,   0.    ,  25.5875],\n",
       "       [  1.    ,  31.    ,   0.    ,   2.    , 164.8667],\n",
       "       [  1.    ,  33.    ,   1.    ,   0.    ,  90.    ],\n",
       "       [  1.    ,  24.    ,   0.    ,   0.    ,  79.2   ],\n",
       "       [  3.    ,   2.    ,   0.    ,   1.    ,  10.4625],\n",
       "       [  1.    ,  14.    ,   1.    ,   2.    , 120.    ],\n",
       "       [  2.    ,  24.    ,   0.    ,   0.    ,  13.    ],\n",
       "       [  1.    ,  55.    ,   0.    ,   0.    ,  30.5   ],\n",
       "       [  1.    ,  36.    ,   0.    ,   0.    ,  26.2875],\n",
       "       [  1.    ,  21.    ,   0.    ,   1.    ,  77.2875],\n",
       "       [  1.    ,  58.    ,   0.    ,   2.    , 113.275 ],\n",
       "       [  1.    ,  35.    ,   0.    ,   0.    , 135.6333],\n",
       "       [  3.    ,  32.    ,   0.    ,   0.    ,   8.05  ],\n",
       "       [  3.    ,  29.    ,   1.    ,   1.    ,  10.4625],\n",
       "       [  1.    ,  27.    ,   0.    ,   2.    , 211.5   ],\n",
       "       [  1.    ,  21.    ,   0.    ,   0.    ,  77.9583],\n",
       "       [  1.    ,  45.    ,   1.    ,   0.    ,  83.475 ],\n",
       "       [  1.    ,  44.    ,   2.    ,   0.    ,  90.    ],\n",
       "       [  1.    ,  45.    ,   0.    ,   0.    ,  35.5   ],\n",
       "       [  1.    ,  35.    ,   0.    ,   0.    , 512.3292],\n",
       "       [  1.    ,  40.    ,   0.    ,   0.    ,   0.    ],\n",
       "       [  1.    ,  63.    ,   1.    ,   0.    ,  77.9583],\n",
       "       [  1.    ,  58.    ,   0.    ,   1.    , 153.4625],\n",
       "       [  1.    ,  39.    ,   1.    ,   0.    ,  55.9   ],\n",
       "       [  1.    ,  50.    ,   0.    ,   0.    ,  28.7125],\n",
       "       [  1.    ,  49.    ,   1.    ,   0.    ,  89.1042],\n",
       "       [  1.    ,  31.    ,   0.    ,   0.    ,  50.4958],\n",
       "       [  1.    ,  38.    ,   0.    ,   0.    , 227.525 ],\n",
       "       [  1.    ,  49.    ,   0.    ,   0.    ,  25.9292],\n",
       "       [  1.    ,  47.    ,   0.    ,   0.    ,  38.5   ],\n",
       "       [  1.    ,  31.    ,   1.    ,   0.    , 113.275 ],\n",
       "       [  1.    ,  36.    ,   1.    ,   2.    , 120.    ],\n",
       "       [  1.    ,  71.    ,   0.    ,   0.    ,  34.6542],\n",
       "       [  1.    ,  23.    ,   3.    ,   2.    , 263.    ],\n",
       "       [  1.    ,  24.    ,   0.    ,   0.    ,  49.5042],\n",
       "       [  1.    ,  22.    ,   0.    ,   1.    ,  55.    ],\n",
       "       [  1.    ,  36.    ,   1.    ,   2.    , 120.    ],\n",
       "       [  3.    ,   6.    ,   0.    ,   1.    ,  12.475 ],\n",
       "       [  1.    ,  24.    ,   0.    ,   0.    ,  83.1583],\n",
       "       [  1.    ,  18.    ,   1.    ,   0.    , 108.9   ],\n",
       "       [  1.    ,  60.    ,   1.    ,   0.    ,  75.25  ],\n",
       "       [  1.    ,  31.    ,   1.    ,   0.    ,  52.    ],\n",
       "       [  1.    ,  50.    ,   1.    ,   0.    , 106.425 ],\n",
       "       [  1.    ,  25.    ,   1.    ,   0.    ,  91.0792],\n",
       "       [  1.    ,  54.    ,   0.    ,   1.    ,  77.2875],\n",
       "       [  2.    ,   3.    ,   1.    ,   1.    ,  26.    ],\n",
       "       [  2.    ,  23.    ,   0.    ,   0.    ,  13.7917],\n",
       "       [  1.    ,  51.    ,   0.    ,   0.    ,  26.55  ],\n",
       "       [  2.    ,  27.    ,   0.    ,   0.    ,  10.5   ],\n",
       "       [  2.    ,   4.    ,   2.    ,   1.    ,  39.    ],\n",
       "       [  2.    ,  34.    ,   0.    ,   0.    ,  13.    ],\n",
       "       [  3.    ,  19.    ,   0.    ,   0.    ,   7.65  ],\n",
       "       [  1.    ,  48.    ,   1.    ,   0.    ,  76.7292],\n",
       "       [  1.    ,  39.    ,   1.    ,   1.    ,  79.65  ],\n",
       "       [  3.    ,  25.    ,   0.    ,   0.    ,   7.65  ],\n",
       "       [  1.    ,  25.    ,   1.    ,   0.    ,  55.4417],\n",
       "       [  1.    ,  80.    ,   0.    ,   0.    ,  30.    ],\n",
       "       [  1.    ,  18.    ,   2.    ,   2.    , 262.375 ],\n",
       "       [  1.    ,  58.    ,   0.    ,   0.    ,  26.55  ],\n",
       "       [  1.    ,  46.    ,   0.    ,   0.    ,  79.2   ],\n",
       "       [  1.    ,  49.    ,   1.    ,   1.    , 110.8833],\n",
       "       [  1.    ,  24.    ,   0.    ,   1.    , 247.5208],\n",
       "       [  1.    ,   2.    ,   1.    ,   2.    , 151.55  ],\n",
       "       [  1.    ,  56.    ,   0.    ,   0.    ,  30.6958],\n",
       "       [  1.    ,  52.    ,   1.    ,   0.    ,  78.2667],\n",
       "       [  1.    ,  42.    ,   0.    ,   0.    ,  26.2875],\n",
       "       [  1.    ,  48.    ,   0.    ,   0.    ,  26.55  ],\n",
       "       [  1.    ,  52.    ,   0.    ,   0.    ,  30.5   ],\n",
       "       [  2.    ,  34.    ,   0.    ,   0.    ,  10.5   ],\n",
       "       [  1.    ,  64.    ,   1.    ,   4.    , 263.    ],\n",
       "       [  1.    ,  50.    ,   1.    ,   0.    ,  55.9   ],\n",
       "       [  1.    ,  26.    ,   0.    ,   0.    ,  30.    ],\n",
       "       [  1.    ,  24.    ,   0.    ,   0.    ,  69.3   ],\n",
       "       [  1.    ,  22.    ,   0.    ,   2.    ,  49.5   ],\n",
       "       [  1.    ,  22.    ,   1.    ,   0.    ,  66.6   ],\n",
       "       [  1.    ,  27.    ,   1.    ,   0.    ,  53.1   ],\n",
       "       [  1.    ,  30.    ,   0.    ,   0.    ,  27.75  ],\n",
       "       [  1.    ,  45.5   ,   0.    ,   0.    ,  28.5   ],\n",
       "       [  3.    ,  24.    ,   0.    ,   2.    ,  16.7   ],\n",
       "       [  1.    ,  31.    ,   1.    ,   0.    ,  57.    ],\n",
       "       [  1.    ,  43.    ,   0.    ,   1.    , 211.3375]])"
      ]
     },
     "execution_count": 29,
     "metadata": {},
     "output_type": "execute_result"
    }
   ],
   "source": [
    "X_train"
   ]
  },
  {
   "cell_type": "code",
   "execution_count": 30,
   "id": "17b1c854",
   "metadata": {},
   "outputs": [
    {
     "name": "stdout",
     "output_type": "stream",
     "text": [
      "0.5945945945945946\n"
     ]
    }
   ],
   "source": [
    "from sklearn.tree import DecisionTreeClassifier\n",
    "clf = DecisionTreeClassifier(random_state=0).fit(X_train, Y_train)\n",
    "Y_pred = clf.predict(X_test)\n",
    "print(accuracy_score(Y_test, Y_pred))"
   ]
  },
  {
   "cell_type": "code",
   "execution_count": 31,
   "id": "7e8deb9f",
   "metadata": {},
   "outputs": [
    {
     "name": "stdout",
     "output_type": "stream",
     "text": [
      "         0         1         2         3         4         5         6    \\\n",
      "0   0.000000  0.000000  0.000000  0.000000  0.000000  0.000000  0.000000   \n",
      "1   0.000000  0.000000  0.000000  0.000000  0.000000  0.000000  0.000000   \n",
      "2   0.000000  0.028916  0.000000  0.000000  0.000000  0.000000  0.028916   \n",
      "3   0.000000  0.000000  0.000000  0.000000  0.000000  0.000000  0.000000   \n",
      "4   0.000000  0.000000  0.000000  0.000000  0.000000  0.000000  0.000000   \n",
      "5   0.000000  0.000000  0.000000  0.000000  0.000000  0.000000  0.000000   \n",
      "6   0.000000  0.000000  0.000000  0.016255  0.000000  0.000000  0.000000   \n",
      "7   0.000000  0.000000  0.000000  0.000000  0.000000  0.000000  0.000000   \n",
      "8   0.000000  0.000000  0.000000  0.000000  0.050223  0.000000  0.000000   \n",
      "9   0.000000  0.000000  0.000000  0.000000  0.000000  0.000000  0.000000   \n",
      "10  0.000000  0.000000  0.000000  0.000000  0.000000  0.000000  0.000000   \n",
      "11  0.000000  0.000000  0.000000  0.000000  0.000000  0.000000  0.000000   \n",
      "12  0.000000  0.000000  0.000000  0.018394  0.000000  0.000000  0.000000   \n",
      "13  0.000000  0.000000  0.000000  0.000000  0.000000  0.000000  0.000000   \n",
      "14  0.000000  0.000000  0.000000  0.000000  0.000000  0.000000  0.000000   \n",
      "15  0.000000  0.059640  0.000000  0.000000  0.059640  0.000000  0.000000   \n",
      "16  0.000000  0.000000  0.045845  0.000000  0.000000  0.000000  0.000000   \n",
      "17  0.000000  0.000000  0.000000  0.046598  0.000000  0.000000  0.000000   \n",
      "18  0.000000  0.000000  0.000000  0.000000  0.000000  0.000000  0.000000   \n",
      "19  0.000000  0.000000  0.000000  0.000000  0.000000  0.000000  0.000000   \n",
      "20  0.027954  0.000000  0.000000  0.017048  0.000000  0.000000  0.000000   \n",
      "21  0.000000  0.000000  0.000000  0.000000  0.000000  0.000000  0.000000   \n",
      "22  0.000000  0.000000  0.000000  0.000000  0.000000  0.026048  0.000000   \n",
      "23  0.000000  0.000000  0.000000  0.000000  0.000000  0.000000  0.000000   \n",
      "24  0.000000  0.000000  0.000000  0.000000  0.000000  0.000000  0.000000   \n",
      "25  0.000000  0.000000  0.000000  0.000000  0.000000  0.000000  0.000000   \n",
      "26  0.000000  0.000000  0.000000  0.000000  0.000000  0.000000  0.000000   \n",
      "27  0.000000  0.000000  0.000000  0.000000  0.000000  0.000000  0.000000   \n",
      "28  0.000000  0.000000  0.000000  0.000000  0.000000  0.000000  0.000000   \n",
      "29  0.000000  0.000000  0.000000  0.000000  0.000000  0.000000  0.039760   \n",
      "\n",
      "         7         8         9    ...       295       296       297       298  \\\n",
      "0   0.000000  0.000000  0.000000  ...  0.000000  0.000000  0.000000  0.000000   \n",
      "1   0.000000  0.000000  0.000000  ...  0.000000  0.000000  0.000000  0.000000   \n",
      "2   0.000000  0.000000  0.000000  ...  0.000000  0.000000  0.000000  0.000000   \n",
      "3   0.000000  0.000000  0.000000  ...  0.000000  0.000000  0.000000  0.000000   \n",
      "4   0.000000  0.000000  0.000000  ...  0.000000  0.000000  0.000000  0.000000   \n",
      "5   0.000000  0.000000  0.000000  ...  0.000000  0.000000  0.000000  0.000000   \n",
      "6   0.000000  0.026654  0.000000  ...  0.026654  0.000000  0.000000  0.066575   \n",
      "7   0.000000  0.000000  0.000000  ...  0.000000  0.000000  0.000000  0.000000   \n",
      "8   0.000000  0.000000  0.000000  ...  0.000000  0.000000  0.000000  0.000000   \n",
      "9   0.000000  0.000000  0.000000  ...  0.000000  0.000000  0.000000  0.000000   \n",
      "10  0.000000  0.000000  0.000000  ...  0.000000  0.000000  0.000000  0.000000   \n",
      "11  0.000000  0.000000  0.112264  ...  0.000000  0.000000  0.000000  0.000000   \n",
      "12  0.000000  0.000000  0.000000  ...  0.000000  0.000000  0.000000  0.000000   \n",
      "13  0.000000  0.000000  0.000000  ...  0.000000  0.000000  0.000000  0.000000   \n",
      "14  0.000000  0.000000  0.000000  ...  0.000000  0.000000  0.000000  0.000000   \n",
      "15  0.000000  0.000000  0.000000  ...  0.000000  0.000000  0.000000  0.000000   \n",
      "16  0.000000  0.000000  0.000000  ...  0.000000  0.000000  0.000000  0.000000   \n",
      "17  0.000000  0.000000  0.000000  ...  0.000000  0.000000  0.000000  0.000000   \n",
      "18  0.000000  0.000000  0.000000  ...  0.000000  0.000000  0.000000  0.000000   \n",
      "19  0.000000  0.000000  0.000000  ...  0.000000  0.000000  0.000000  0.000000   \n",
      "20  0.000000  0.000000  0.023274  ...  0.000000  0.000000  0.000000  0.000000   \n",
      "21  0.000000  0.000000  0.000000  ...  0.000000  0.000000  0.000000  0.000000   \n",
      "22  0.021687  0.000000  0.000000  ...  0.000000  0.026048  0.026048  0.000000   \n",
      "23  0.000000  0.000000  0.000000  ...  0.000000  0.000000  0.000000  0.000000   \n",
      "24  0.000000  0.000000  0.000000  ...  0.000000  0.000000  0.000000  0.000000   \n",
      "25  0.000000  0.000000  0.000000  ...  0.000000  0.000000  0.000000  0.106027   \n",
      "26  0.000000  0.000000  0.000000  ...  0.000000  0.000000  0.000000  0.000000   \n",
      "27  0.000000  0.000000  0.000000  ...  0.000000  0.000000  0.000000  0.000000   \n",
      "28  0.000000  0.000000  0.000000  ...  0.000000  0.000000  0.000000  0.000000   \n",
      "29  0.039760  0.000000  0.000000  ...  0.000000  0.000000  0.000000  0.000000   \n",
      "\n",
      "        299       300       301       302       303       304  \n",
      "0   0.00000  0.000000  0.000000  0.000000  0.000000  0.000000  \n",
      "1   0.07952  0.000000  0.000000  0.000000  0.000000  0.000000  \n",
      "2   0.00000  0.000000  0.000000  0.000000  0.000000  0.000000  \n",
      "3   0.00000  0.000000  0.000000  0.000000  0.000000  0.000000  \n",
      "4   0.00000  0.000000  0.000000  0.000000  0.000000  0.000000  \n",
      "5   0.00000  0.000000  0.000000  0.000000  0.000000  0.000000  \n",
      "6   0.00000  0.000000  0.000000  0.000000  0.000000  0.000000  \n",
      "7   0.00000  0.000000  0.000000  0.000000  0.000000  0.000000  \n",
      "8   0.00000  0.050223  0.000000  0.042785  0.000000  0.000000  \n",
      "9   0.00000  0.032905  0.000000  0.000000  0.000000  0.000000  \n",
      "10  0.00000  0.000000  0.000000  0.000000  0.000000  0.000000  \n",
      "11  0.00000  0.000000  0.000000  0.000000  0.000000  0.000000  \n",
      "12  0.00000  0.000000  0.000000  0.000000  0.000000  0.000000  \n",
      "13  0.00000  0.000000  0.028031  0.028031  0.039522  0.000000  \n",
      "14  0.00000  0.000000  0.000000  0.000000  0.000000  0.000000  \n",
      "15  0.00000  0.000000  0.000000  0.000000  0.000000  0.000000  \n",
      "16  0.00000  0.000000  0.000000  0.000000  0.000000  0.000000  \n",
      "17  0.00000  0.000000  0.000000  0.000000  0.000000  0.076409  \n",
      "18  0.00000  0.000000  0.000000  0.000000  0.000000  0.000000  \n",
      "19  0.00000  0.000000  0.000000  0.000000  0.000000  0.000000  \n",
      "20  0.00000  0.000000  0.000000  0.000000  0.000000  0.000000  \n",
      "21  0.00000  0.000000  0.000000  0.000000  0.000000  0.000000  \n",
      "22  0.00000  0.000000  0.000000  0.000000  0.000000  0.000000  \n",
      "23  0.00000  0.000000  0.000000  0.000000  0.000000  0.000000  \n",
      "24  0.00000  0.000000  0.000000  0.000000  0.000000  0.000000  \n",
      "25  0.00000  0.000000  0.000000  0.000000  0.000000  0.000000  \n",
      "26  0.05964  0.000000  0.000000  0.000000  0.000000  0.000000  \n",
      "27  0.00000  0.000000  0.000000  0.000000  0.000000  0.000000  \n",
      "28  0.00000  0.000000  0.090324  0.000000  0.000000  0.000000  \n",
      "29  0.00000  0.000000  0.033871  0.033871  0.000000  0.000000  \n",
      "\n",
      "[30 rows x 305 columns]\n"
     ]
    },
    {
     "name": "stderr",
     "output_type": "stream",
     "text": [
      "/var/folders/vl/5bp0nbzd28vgxygxw50kjt4r0000gn/T/ipykernel_85936/3628652456.py:3: DtypeWarning: Columns (1,10) have mixed types. Specify dtype option on import or set low_memory=False.\n",
      "  df = pd.read_csv(\"../Amazon-data.csv\")\n"
     ]
    }
   ],
   "source": [
    "from statsbox import TF_tools as tfidf\n",
    "import pandas as pd\n",
    "df = pd.read_csv(\"../Amazon-data.csv\")\n",
    "sentences = df['reviews.text']\n",
    "x_sent = []\n",
    "for s in sentences:\n",
    "    x_sent.append(s)\n",
    "x_sent = x_sent[500:1000]\n",
    "x = x_sent[20:50]\n",
    "\n",
    "x = (tfidf.remove_stopwords(tfidf.lowercase(tfidf.remove_punctuation(x))))\n",
    "words_set = tfidf.get_word_set(x, 'set')\n",
    "\n",
    "df_tf = tfidf.TF_matrix(x, words_set, 'list')\n",
    "df_tf_idf = tfidf.TF_IDF(x, words_set, df_tf, 'list')\n",
    "\n",
    "df_tf_idf = pd.DataFrame(df_tf_idf)\n",
    "print(df_tf_idf)\n"
   ]
  },
  {
   "cell_type": "code",
   "execution_count": 32,
   "id": "37c1e917",
   "metadata": {},
   "outputs": [
    {
     "name": "stdout",
     "output_type": "stream",
     "text": [
      "Accuracy:  0.8596177643338375\n"
     ]
    }
   ],
   "source": [
    "import numpy as np\n",
    "import pandas as pd\n",
    "from statsbox.logistic_regression import LogisticRegression\n",
    "\n",
    "# Logistic Regression Code Reference: https://towardsdatascience.com/logistic-regression-from-scratch-in-python-ec66603592e2\n",
    "# Data source: https://www.kaggle.com/code/dyasin/week24ml-weather-dataset-rattle-package-weatheraus/data \n",
    "\n",
    "def handle_nulls(df):\n",
    "    for col in df:\n",
    "        col_median=df[col].median()\n",
    "        df[col].fillna(col_median, inplace=True)\n",
    "\n",
    "df = pd.read_csv(\"weatherAUS.csv\")\n",
    "y = pd.get_dummies(df.RainTomorrow, drop_first=True)\n",
    "y = y.values.reshape(-1,1)\n",
    "\n",
    "# Drop categorical columns\n",
    "df.drop(['Date', 'Location', 'WindGustDir', 'WindDir9am', 'Evaporation', 'Sunshine', 'WindDir3pm', 'RainToday',  \"RainTomorrow\"],  axis=1, inplace=True)\n",
    "handle_nulls(df)\n",
    "\n",
    "# Normalize Data\n",
    "df = (df-df.mean())/df.std()\n",
    "X = df.values\n",
    "\n",
    "# # Split into train and test\n",
    "from sklearn.model_selection import train_test_split\n",
    "X_train, X_test, y_train, y_test = train_test_split(X, y, test_size=.2, random_state=44)\n",
    "\n",
    "logregmodel = LogisticRegression()\n",
    "\n",
    "logregmodel.fit(X_train,y_train,lr=0.01, epochs=1000, batchsize=10000)\n",
    "y_pred = logregmodel.predict(X_test)\n",
    "\n",
    "print(\"Accuracy: \",logregmodel.accuracy(y_test,y_pred))"
   ]
  },
  {
   "cell_type": "code",
   "execution_count": 33,
   "id": "5246a268",
   "metadata": {},
   "outputs": [
    {
     "name": "stderr",
     "output_type": "stream",
     "text": [
      "/Users/abhik-mac/opt/anaconda3/lib/python3.9/site-packages/sklearn/utils/validation.py:993: DataConversionWarning: A column-vector y was passed when a 1d array was expected. Please change the shape of y to (n_samples, ), for example using ravel().\n",
      "  y = column_or_1d(y, warn=True)\n"
     ]
    }
   ],
   "source": [
    "from sklearn.linear_model import LogisticRegression\n",
    "clf = LogisticRegression(random_state=0).fit(X_train, y_train)"
   ]
  },
  {
   "cell_type": "code",
   "execution_count": 34,
   "id": "330a555b",
   "metadata": {},
   "outputs": [
    {
     "data": {
      "text/plain": [
       "0.8425684036848619"
      ]
     },
     "execution_count": 34,
     "metadata": {},
     "output_type": "execute_result"
    }
   ],
   "source": [
    "clf.score(X_test, y_test)"
   ]
  },
  {
   "cell_type": "code",
   "execution_count": null,
   "id": "d1704944",
   "metadata": {},
   "outputs": [],
   "source": []
  }
 ],
 "metadata": {
  "kernelspec": {
   "display_name": "Python 3 (ipykernel)",
   "language": "python",
   "name": "python3"
  },
  "language_info": {
   "codemirror_mode": {
    "name": "ipython",
    "version": 3
   },
   "file_extension": ".py",
   "mimetype": "text/x-python",
   "name": "python",
   "nbconvert_exporter": "python",
   "pygments_lexer": "ipython3",
   "version": "3.9.7"
  }
 },
 "nbformat": 4,
 "nbformat_minor": 5
}
