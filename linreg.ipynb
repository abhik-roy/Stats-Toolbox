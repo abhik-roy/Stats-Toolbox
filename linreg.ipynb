{
  "nbformat": 4,
  "nbformat_minor": 0,
  "metadata": {
    "colab": {
      "provenance": []
    },
    "kernelspec": {
      "name": "python3",
      "display_name": "Python 3"
    },
    "language_info": {
      "name": "python"
    }
  },
  "cells": [
    {
      "cell_type": "code",
      "execution_count": 2,
      "metadata": {
        "id": "oM6QtsEM8A6U"
      },
      "outputs": [],
      "source": [
        "import numpy as np\n",
        "import pandas as pd"
      ]
    },
    {
      "cell_type": "code",
      "source": [
        "class LinearRegression():\n",
        "  def __init__(self, X_train, X_test, y_train, y_test):\n",
        "    self.X_train = X_train\n",
        "    self.y_train = y_train\n",
        "    self.X_test = X_test\n",
        "    self.y_test = y_test\n",
        "    \n",
        "  \n",
        "  def mxmult(self, mx1, mx2):\n",
        "    result = [[0 for i in range(0, mx2.shape[1])] for j in range(0, mx1.shape[0])]\n",
        "   \n",
        "    for i in range(len(mx1)): #rows of mx1\n",
        "      for j in range(len(mx2[0])): #cols of mx2\n",
        "          for k in range(len(mx2)): # rows of mx2\n",
        "              result[i][j] += mx1[i][k] * mx2[k][j]\n",
        "    return np.array(result)\n",
        "\n",
        "  def h(self, beta):\n",
        "    return self.mxmult(self.X_train, beta)\n",
        "\n",
        "\n",
        "  def get_cost(self, beta):\n",
        "    return ( self.mxmult(self.transpose(self.h(beta)-self.y_train),(self.h(beta)-self.y_train)) )/(2*self.y_train.shape[0])\n",
        "\n",
        "\n",
        "  def gradient_descent(self, beta, lr=0.1, epochs=10):\n",
        "    m = self.X_train.shape[0]\n",
        "    J_all = []\n",
        "    \n",
        "    for _ in range(epochs):\n",
        "      h_x = self.h(beta)\n",
        "      cost_ = (1/m)*( self.mxmult(self.transpose(self.X_train), (h_x-self.y_train)) )\n",
        "      beta = beta - (lr)*cost_\n",
        "      J_all.append(self.get_cost(beta))\n",
        "\n",
        "    return beta, J_all \n",
        "\n",
        "  def transpose(self, mx):\n",
        "    result = [[0 for i in range(mx.shape[0])] for j in range(mx.shape[1])]\n",
        "    for i in range(len(mx)):\n",
        "      for j in range(len(mx[0])):\n",
        "        result[j][i] = mx[i][j]\n",
        "    return np.array(result)\n",
        " \n",
        "  def fit(self, lr=0.1, epochs=10):\n",
        "    self.pad_1s_to_mx()\n",
        "    beta = self.init_beta()\n",
        "\n",
        "    beta, J_all = self.gradient_descent(beta, lr, epochs)\n",
        "    J = self.get_cost(beta)\n",
        "    print(\"Cost: \", J)\n",
        "    print(\"Parameters: \", beta)\n",
        "    return J, beta\n",
        "\n",
        "  def predict(self, beta):\n",
        "    mu = np.mean(self.X_train[:,1:], axis=0)\n",
        "    std = np.std(self.X_train[:,1:], axis=0)\n",
        "        \n",
        "    for i,x in enumerate(self.X_test):\n",
        "      x_0 = (x[0] - mu[0])/std[0]\n",
        "      x_1 = (x[1] - mu[1])/std[1]\n",
        "      y = beta[0] + beta[1]*x_0 + beta[2]*x_1\n",
        "      print(\"Predicted price of house: \", y)\n",
        "      print(\"Actual price of house: \", self.y_test[i])\n",
        "\n",
        "\n",
        "  def init_beta(self):\n",
        "    return np.zeros((self.X_train.shape[1], 1))\n",
        "\n",
        "\n",
        "  def pad_1s_to_mx(self):\n",
        "    self.X_train = np.hstack((np.ones((self.X_train.shape[0], 1)), self.X_train))\n",
        "    self.X_test = np.hstack((np.ones((self.X_test.shape[0], 1)), self.X_test))\n"
      ],
      "metadata": {
        "id": "69B2AObi9-oj"
      },
      "execution_count": 36,
      "outputs": []
    },
    {
      "cell_type": "code",
      "source": [
        "\n",
        "# Linear Regression Code Reference: https://towardsdatascience.com/coding-linear-regression-from-scratch-c42ec079902 \n",
        "# Data source: https://github.com/kumudlakara/Medium-codes/blob/main/linear_regression/house_price_data.txt\n",
        "df = pd.read_csv(\"house_price_data.txt\", index_col=False)\n",
        "df.columns = [\"housesize\", \"rooms\", \"price\"]\n",
        "# Normalize the data\n",
        "df = (df-df.mean())/df.std()\n",
        "\n",
        "X = df.iloc[:, :-1].values\n",
        "y = df.iloc[:, -1].values.reshape(-1,1)\n",
        "from sklearn.model_selection import train_test_split\n",
        "X_train, X_test, y_train, y_test = train_test_split(X, y, test_size=.2, random_state=44)\n",
        "\n",
        "linregmodel = LinearRegression(X_train, X_test, y_train, y_test)\n",
        "\n",
        "J, beta = linregmodel.fit(lr=0.01, epochs=400)\n",
        "linregmodel.predict(beta)"
      ],
      "metadata": {
        "colab": {
          "base_uri": "https://localhost:8080/"
        },
        "id": "2wqf-F6C8Tyx",
        "outputId": "6193b533-5f2d-49ac-b36f-d9ea74393144"
      },
      "execution_count": 37,
      "outputs": [
        {
          "output_type": "stream",
          "name": "stdout",
          "text": [
            "Cost:  [[0.13394757]]\n",
            "Parameters:  [[-0.06724889]\n",
            " [ 0.78799061]\n",
            " [ 0.05764216]]\n",
            "Predicted price of house:  [0.57585169]\n",
            "Actual price of house:  [-1.1111551]\n",
            "Predicted price of house:  [0.58438741]\n",
            "Actual price of house:  [-0.19206027]\n",
            "Predicted price of house:  [0.56731596]\n",
            "Actual price of house:  [-0.31101026]\n",
            "Predicted price of house:  [0.59475793]\n",
            "Actual price of house:  [0.23298768]\n",
            "Predicted price of house:  [0.62475264]\n",
            "Actual price of house:  [-0.19206027]\n",
            "Predicted price of house:  [0.54178854]\n",
            "Actual price of house:  [-1.34191015]\n",
            "Predicted price of house:  [0.6635224]\n",
            "Actual price of house:  [1.0299526]\n",
            "Predicted price of house:  [0.61278666]\n",
            "Actual price of house:  [-0.07232521]\n",
            "Predicted price of house:  [0.67014357]\n",
            "Actual price of house:  [1.27576671]\n",
            "Predicted price of house:  [0.63751634]\n",
            "Actual price of house:  [1.07753259]\n"
          ]
        }
      ]
    }
  ]
}