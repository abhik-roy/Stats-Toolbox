{
 "cells": [
  {
   "cell_type": "code",
   "execution_count": 7,
   "id": "ea45852a",
   "metadata": {},
   "outputs": [
    {
     "name": "stderr",
     "output_type": "stream",
     "text": [
      "/var/folders/vl/5bp0nbzd28vgxygxw50kjt4r0000gn/T/ipykernel_84464/2428769182.py:9: DtypeWarning: Columns (1,10) have mixed types. Specify dtype option on import or set low_memory=False.\n",
      "  df = pd.read_csv(\"../Amazon-data.csv\")\n"
     ]
    }
   ],
   "source": [
    "import sys  \n",
    "import pandas as pd\n",
    "import numpy as np\n",
    "sys.path.insert(0, '/Stats-Toolbox')\n",
    "\n",
    "from statsbox import Decision_Tree\n",
    "from statsbox import K_Means\n",
    "from statsbox import TF_tools\n",
    "df = pd.read_csv(\"../Amazon-data.csv\")"
   ]
  },
  {
   "cell_type": "code",
   "execution_count": 4,
   "id": "07ac6a65",
   "metadata": {},
   "outputs": [],
   "source": [
    "sentences = df['reviews.text']\n",
    "x_sent = []\n",
    "for s in sentences:\n",
    "    x_sent.append(s)\n",
    "x_sent=x_sent[500:1000]"
   ]
  },
  {
   "cell_type": "code",
   "execution_count": 6,
   "id": "4b08a592",
   "metadata": {},
   "outputs": [
    {
     "ename": "NameError",
     "evalue": "name 'remove_stopwords' is not defined",
     "output_type": "error",
     "traceback": [
      "\u001b[0;31m---------------------------------------------------------------------------\u001b[0m",
      "\u001b[0;31mNameError\u001b[0m                                 Traceback (most recent call last)",
      "Input \u001b[0;32mIn [6]\u001b[0m, in \u001b[0;36m<cell line: 2>\u001b[0;34m()\u001b[0m\n\u001b[1;32m      1\u001b[0m x \u001b[38;5;241m=\u001b[39m x_sent[\u001b[38;5;241m20\u001b[39m:\u001b[38;5;241m50\u001b[39m]\n\u001b[0;32m----> 2\u001b[0m x \u001b[38;5;241m=\u001b[39m (\u001b[43mremove_stopwords\u001b[49m(lowercase(remove_punctuation(x))))\n",
      "\u001b[0;31mNameError\u001b[0m: name 'remove_stopwords' is not defined"
     ]
    }
   ],
   "source": [
    "x = x_sent[20:50]\n",
    "x = (TF_tools.remove_stopwords(TF_tools.lowercase(TF_tools.remove_punctuation(x))))"
   ]
  },
  {
   "cell_type": "code",
   "execution_count": null,
   "id": "c9167fa1",
   "metadata": {},
   "outputs": [],
   "source": []
  }
 ],
 "metadata": {
  "kernelspec": {
   "display_name": "Python 3 (ipykernel)",
   "language": "python",
   "name": "python3"
  },
  "language_info": {
   "codemirror_mode": {
    "name": "ipython",
    "version": 3
   },
   "file_extension": ".py",
   "mimetype": "text/x-python",
   "name": "python",
   "nbconvert_exporter": "python",
   "pygments_lexer": "ipython3",
   "version": "3.9.7"
  }
 },
 "nbformat": 4,
 "nbformat_minor": 5
}
