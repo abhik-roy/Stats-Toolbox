{
 "cells": [
  {
   "cell_type": "code",
   "execution_count": 1,
   "id": "ffdaabf1",
   "metadata": {},
   "outputs": [],
   "source": [
    "import sys  \n",
    "sys.path.insert(0, '/Stats-Toolbox')\n",
    "\n",
    "from statsbox import Decision_Tree\n",
    "from statsbox import K_Means\n"
   ]
  },
  {
   "cell_type": "code",
   "execution_count": null,
   "id": "5ef76c95",
   "metadata": {},
   "outputs": [],
   "source": []
  },
  {
   "cell_type": "code",
   "execution_count": 4,
   "id": "b31ce212",
   "metadata": {},
   "outputs": [
    {
     "name": "stdout",
     "output_type": "stream",
     "text": [
      "[[3.21327520e+04 1.69251969e+04 4.25590551e+00 2.40551181e+00\n",
      "  2.12992126e+00 4.09055118e+00]\n",
      " [6.13130811e+04 6.22702703e+04 5.74324324e+00 3.06756757e+00\n",
      "  1.76351351e+00 2.04729730e+00]\n",
      " [5.62876579e+04 1.55473684e+05 8.76315789e+00 6.05263158e-01\n",
      "  1.09473684e+01 1.00000000e+00]\n",
      " [7.73562136e+04 1.54363636e+04 3.82727273e+00 2.26363636e+00\n",
      "  2.28181818e+00 4.47727273e+00]]\n",
      "      \n",
      "       -           -              -   \n",
      "     \n",
      "[[6.13130811e+04 6.22702703e+04 5.74324324e+00 3.06756757e+00\n",
      "  1.76351351e+00 2.04729730e+00]\n",
      " [3.20444348e+04 1.69486166e+04 4.26086957e+00 2.41106719e+00\n",
      "  2.11857708e+00 4.09090909e+00]\n",
      " [5.62876579e+04 1.55473684e+05 8.76315789e+00 6.05263158e-01\n",
      "  1.09473684e+01 1.00000000e+00]\n",
      " [7.72526878e+04 1.54162896e+04 3.82352941e+00 2.25791855e+00\n",
      "  2.29411765e+00 4.47511312e+00]]\n"
     ]
    }
   ],
   "source": [
    "from sklearn.cluster import KMeans\n",
    "import random\n",
    "import numpy as np\n",
    "from matplotlib import pyplot as plt\n",
    "import pandas as pd\n",
    "\n",
    "df = pd.read_csv(\"Credit Card Customer Data.csv\")\n",
    "\n",
    "X = df.iloc[:, 1:].values\n",
    "\n",
    "cluster, centroids = K_Means.cluster(4, X)\n",
    "\n",
    "print(centroids)\n",
    "\n",
    "kmeans = KMeans(n_clusters=4, random_state=0).fit(X)\n",
    "\n",
    "print('      ')\n",
    "print('       -           -              -   ')\n",
    "print('     ')\n",
    "\n",
    "print(kmeans.cluster_centers_)"
   ]
  },
  {
   "cell_type": "code",
   "execution_count": null,
   "id": "aeed7ad3",
   "metadata": {},
   "outputs": [],
   "source": []
  }
 ],
 "metadata": {
  "kernelspec": {
   "display_name": "Python 3 (ipykernel)",
   "language": "python",
   "name": "python3"
  },
  "language_info": {
   "codemirror_mode": {
    "name": "ipython",
    "version": 3
   },
   "file_extension": ".py",
   "mimetype": "text/x-python",
   "name": "python",
   "nbconvert_exporter": "python",
   "pygments_lexer": "ipython3",
   "version": "3.9.7"
  }
 },
 "nbformat": 4,
 "nbformat_minor": 5
}
