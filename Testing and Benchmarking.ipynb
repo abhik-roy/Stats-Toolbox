{
 "cells": [
  {
   "cell_type": "code",
   "execution_count": 12,
   "id": "ffdaabf1",
   "metadata": {},
   "outputs": [],
   "source": [
    "import sys  \n",
    "sys.path.insert(0, '/Stats-Toolbox')\n",
    "\n",
    "from statsbox import Decision_Tree\n",
    "from statsbox import K_Means\n"
   ]
  },
  {
   "cell_type": "code",
   "execution_count": 6,
   "id": "b31ce212",
   "metadata": {},
   "outputs": [
    {
     "name": "stdout",
     "output_type": "stream",
     "text": [
      "[[7.80888498e+04 1.55586854e+04 3.78873239e+00 2.27230047e+00\n",
      "  2.28638498e+00 4.49765258e+00]\n",
      " [5.69411892e+04 1.56756757e+05 8.72972973e+00 6.21621622e-01\n",
      "  1.08378378e+01 1.00000000e+00]\n",
      " [3.27477433e+04 1.67854406e+04 4.27586207e+00 2.39463602e+00\n",
      "  2.13026820e+00 4.08429119e+00]\n",
      " [6.11170671e+04 6.25771812e+04 5.77181208e+00 3.04697987e+00\n",
      "  1.85234899e+00 2.04026846e+00]]\n",
      "      \n",
      "       -           -              -   \n",
      "     \n",
      "[[6.13130811e+04 6.22702703e+04 5.74324324e+00 3.06756757e+00\n",
      "  1.76351351e+00 2.04729730e+00]\n",
      " [3.20444348e+04 1.69486166e+04 4.26086957e+00 2.41106719e+00\n",
      "  2.11857708e+00 4.09090909e+00]\n",
      " [5.62876579e+04 1.55473684e+05 8.76315789e+00 6.05263158e-01\n",
      "  1.09473684e+01 1.00000000e+00]\n",
      " [7.72526878e+04 1.54162896e+04 3.82352941e+00 2.25791855e+00\n",
      "  2.29411765e+00 4.47511312e+00]]\n"
     ]
    }
   ],
   "source": [
    "from sklearn.cluster import KMeans\n",
    "import random\n",
    "import numpy as np\n",
    "from matplotlib import pyplot as plt\n",
    "import pandas as pd\n",
    "\n",
    "df = pd.read_csv(\"Credit Card Customer Data.csv\")\n",
    "\n",
    "X = df.iloc[:, 1:].values\n",
    "\n",
    "cluster, centroids = K_Means.cluster(4, X)\n",
    "\n",
    "print(centroids)\n",
    "\n",
    "kmeans = KMeans(n_clusters=4, random_state=0).fit(X)\n",
    "\n",
    "print('      ')\n",
    "print('       -           -              -   ')\n",
    "print('     ')\n",
    "\n",
    "print(kmeans.cluster_centers_)"
   ]
  },
  {
   "cell_type": "code",
   "execution_count": 8,
   "id": "aeed7ad3",
   "metadata": {},
   "outputs": [
    {
     "ename": "TypeError",
     "evalue": "fit() takes 3 positional arguments but 4 were given",
     "output_type": "error",
     "traceback": [
      "\u001b[0;31m---------------------------------------------------------------------------\u001b[0m",
      "\u001b[0;31mTypeError\u001b[0m                                 Traceback (most recent call last)",
      "Input \u001b[0;32mIn [8]\u001b[0m, in \u001b[0;36m<cell line: 22>\u001b[0;34m()\u001b[0m\n\u001b[1;32m     18\u001b[0m classifier \u001b[38;5;241m=\u001b[39m Decision_Tree\u001b[38;5;241m.\u001b[39mDecisionTreeClassifier(\n\u001b[1;32m     19\u001b[0m     min_samples_split\u001b[38;5;241m=\u001b[39m\u001b[38;5;241m3\u001b[39m, max_depth\u001b[38;5;241m=\u001b[39m\u001b[38;5;241m3\u001b[39m)\n\u001b[1;32m     20\u001b[0m \u001b[38;5;66;03m# classifier.fit(X_train,Y_train)\u001b[39;00m\n\u001b[0;32m---> 22\u001b[0m \u001b[43mclassifier\u001b[49m\u001b[38;5;241;43m.\u001b[39;49m\u001b[43mfit\u001b[49m\u001b[43m(\u001b[49m\u001b[43mX_train\u001b[49m\u001b[43m,\u001b[49m\u001b[43m \u001b[49m\u001b[43mY_train\u001b[49m\u001b[43m,\u001b[49m\u001b[43m \u001b[49m\u001b[38;5;124;43m'\u001b[39;49m\u001b[38;5;124;43mentropy\u001b[39;49m\u001b[38;5;124;43m'\u001b[39;49m\u001b[43m)\u001b[49m\n\u001b[1;32m     24\u001b[0m Y_pred \u001b[38;5;241m=\u001b[39m classifier\u001b[38;5;241m.\u001b[39mpredict(X_test)\n\u001b[1;32m     25\u001b[0m \u001b[38;5;28mprint\u001b[39m(accuracy_score(Y_test, Y_pred))\n",
      "\u001b[0;31mTypeError\u001b[0m: fit() takes 3 positional arguments but 4 were given"
     ]
    }
   ],
   "source": [
    "from sklearn.metrics import accuracy_score\n",
    "from sklearn.model_selection import train_test_split\n",
    "from sklearn.cluster import KMeans\n",
    "from statsbox import Decision_Tree\n",
    "import random\n",
    "import numpy as np\n",
    "from matplotlib import pyplot as plt\n",
    "import pandas as pd\n",
    "\n",
    "df = pd.read_csv(\"../drug200.csv\")\n",
    "col_names = ['Age', 'Sex', 'BP', 'Cholesterol', 'Na_to_K', 'Drug']\n",
    "data = df\n",
    "X = data.iloc[:, :-1].values\n",
    "Y = data.iloc[:, -1].values.reshape(-1, 1)\n",
    "X_train, X_test, Y_train, Y_test = train_test_split(\n",
    "    X, Y, test_size=.2, random_state=41)\n",
    "\n",
    "classifier = Decision_Tree.DecisionTreeClassifier(\n",
    "    min_samples_split=3, max_depth=3)\n",
    "# classifier.fit(X_train,Y_train)\n",
    "\n",
    "classifier.fit(X_train, Y_train, 'entropy')\n",
    "\n",
    "Y_pred = classifier.predict(X_test)\n",
    "print(accuracy_score(Y_test, Y_pred))\n"
   ]
  },
  {
   "cell_type": "code",
   "execution_count": null,
   "id": "7e8deb9f",
   "metadata": {},
   "outputs": [],
   "source": []
  }
 ],
 "metadata": {
  "kernelspec": {
   "display_name": "Python 3 (ipykernel)",
   "language": "python",
   "name": "python3"
  },
  "language_info": {
   "codemirror_mode": {
    "name": "ipython",
    "version": 3
   },
   "file_extension": ".py",
   "mimetype": "text/x-python",
   "name": "python",
   "nbconvert_exporter": "python",
   "pygments_lexer": "ipython3",
   "version": "3.9.7"
  }
 },
 "nbformat": 4,
 "nbformat_minor": 5
}
