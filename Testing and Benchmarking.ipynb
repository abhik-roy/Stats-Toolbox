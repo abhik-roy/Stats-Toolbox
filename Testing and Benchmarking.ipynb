{
 "cells": [
  {
   "cell_type": "code",
   "execution_count": 1,
   "id": "ffdaabf1",
   "metadata": {},
   "outputs": [],
   "source": [
    "import sys  \n",
    "sys.path.insert(0, '/Stats-Toolbox')\n",
    "\n",
    "from statsbox import Decision_Tree\n",
    "from statsbox import K_Means\n"
   ]
  },
  {
   "cell_type": "code",
   "execution_count": 10,
   "id": "b31ce212",
   "metadata": {},
   "outputs": [
    {
     "name": "stdout",
     "output_type": "stream",
     "text": [
      "[[5.69500400e+04 1.41360000e+05 8.60000000e+00 6.00000000e-01\n",
      "  1.06200000e+01 1.08000000e+00]\n",
      " [7.76736416e+04 2.87679181e+04 4.35836177e+00 2.57337884e+00\n",
      "  1.89761092e+00 3.78156997e+00]\n",
      " [3.40298864e+04 2.30977918e+04 4.41324921e+00 2.52996845e+00\n",
      "  1.99684543e+00 3.79495268e+00]]\n",
      "      \n",
      "       -           -              -   \n",
      "     \n",
      "[[7.76160170e+04 2.89557823e+04 4.37755102e+00 2.56802721e+00\n",
      "  1.93537415e+00 3.77551020e+00]\n",
      " [3.40298864e+04 2.30977918e+04 4.41324921e+00 2.52996845e+00\n",
      "  1.99684543e+00 3.79495268e+00]\n",
      " [5.68728571e+04 1.42530612e+05 8.57142857e+00 5.91836735e-01\n",
      "  1.05714286e+01 1.06122449e+00]]\n"
     ]
    }
   ],
   "source": [
    "from sklearn.cluster import KMeans\n",
    "import random\n",
    "import numpy as np\n",
    "from matplotlib import pyplot as plt\n",
    "import pandas as pd\n",
    "\n",
    "df = pd.read_csv(\"Credit Card Customer Data.csv\")\n",
    "\n",
    "X = df.iloc[:, 1:].values\n",
    "\n",
    "cluster, centroids = K_Means.cluster(3, X)\n",
    "\n",
    "print(centroids)\n",
    "\n",
    "kmeans = KMeans(n_clusters=3, random_state=0).fit(X)\n",
    "\n",
    "print('      ')\n",
    "print('       -           -              -   ')\n",
    "print('     ')\n",
    "\n",
    "print(kmeans.cluster_centers_)"
   ]
  },
  {
   "cell_type": "code",
   "execution_count": 11,
   "id": "c99a5be7",
   "metadata": {},
   "outputs": [],
   "source": [
    "pred_clusters = kmeans.predict(X)"
   ]
  },
  {
   "cell_type": "code",
   "execution_count": 12,
   "id": "5cab82da",
   "metadata": {},
   "outputs": [
    {
     "data": {
      "text/plain": [
       "array([[ 87073, 100000,      2,      1,      1,      0],\n",
       "       [ 38414,  50000,      3,      0,     10,      9],\n",
       "       [ 17341,  50000,      7,      1,      3,      4],\n",
       "       ...,\n",
       "       [ 53834, 145000,      8,      1,      9,      1],\n",
       "       [ 80655, 172000,     10,      1,     15,      0],\n",
       "       [ 80150, 167000,      9,      0,     12,      2]])"
      ]
     },
     "execution_count": 12,
     "metadata": {},
     "output_type": "execute_result"
    }
   ],
   "source": [
    "X"
   ]
  },
  {
   "cell_type": "code",
   "execution_count": 13,
   "id": "73a4273f",
   "metadata": {},
   "outputs": [
    {
     "data": {
      "image/png": "[encoded data removed]",
      "text/plain": [
       "<Figure size 432x288 with 1 Axes>"
      ]
     },
     "metadata": {
      "needs_background": "light"
     },
     "output_type": "display_data"
    }
   ],
   "source": [
    "K_Means.plot_elbow(X, 10)"
   ]
  },
  {
   "cell_type": "code",
   "execution_count": 14,
   "id": "606b2ed5",
   "metadata": {},
   "outputs": [
    {
     "data": {
      "image/png": "[encoded data removed]",
      "text/plain": [
       "<Figure size 432x288 with 1 Axes>"
      ]
     },
     "metadata": {
      "needs_background": "light"
     },
     "output_type": "display_data"
    }
   ],
   "source": [
    "K_Means.plot_clusters(pred_clusters, X)"
   ]
  },
  {
   "cell_type": "code",
   "execution_count": 6,
   "id": "bfce38b4",
   "metadata": {},
   "outputs": [],
   "source": [
    "import matplotlib.pyplot as plt\n",
    "\n",
    "\n",
    "def calculate_WSS(points, kmax):\n",
    "    sse = []\n",
    "    for k in range(1, kmax+1):\n",
    "        kmeans = KMeans(n_clusters = k).fit(points)\n",
    "        centroids = kmeans.cluster_centers_\n",
    "        pred_clusters = kmeans.predict(points)\n",
    "        curr_sse = 0\n",
    "        for i in range(len(points)):\n",
    "            curr_center = centroids[pred_clusters[i]]\n",
    "            curr_sse += (points[i, 0] - curr_center[0]) ** 2 + (points[i, 1] - curr_center[1]) ** 2\n",
    "\n",
    "        sse.append(curr_sse)\n",
    "    return sse"
   ]
  },
  {
   "cell_type": "code",
   "execution_count": 11,
   "id": "ef17bb0b",
   "metadata": {},
   "outputs": [
    {
     "data": {
      "text/plain": [
       "array([2, 2, 1, 1, 2, 0, 2, 1, 0, 1, 1, 1, 0, 1, 0, 0, 0, 0, 1, 1, 1, 0,\n",
       "       1, 0, 1, 0, 0, 1, 0, 1, 1, 1, 0, 0, 1, 1, 1, 0, 1, 1, 0, 1, 1, 1,\n",
       "       0, 0, 0, 0, 1, 0, 1, 0, 0, 1, 0, 0, 1, 1, 0, 0, 1, 1, 0, 0, 0, 0,\n",
       "       0, 0, 0, 0, 1, 1, 1, 1, 1, 0, 0, 0, 0, 1, 0, 1, 0, 1, 0, 0, 1, 1,\n",
       "       1, 1, 1, 0, 1, 0, 0, 1, 1, 1, 0, 1, 0, 0, 1, 0, 0, 1, 1, 0, 0, 1,\n",
       "       0, 0, 0, 1, 1, 1, 0, 1, 0, 0, 1, 1, 0, 0, 0, 1, 1, 0, 1, 1, 1, 0,\n",
       "       1, 1, 1, 1, 1, 0, 1, 1, 1, 0, 0, 0, 0, 1, 0, 0, 0, 1, 0, 0, 0, 0,\n",
       "       0, 1, 1, 0, 1, 0, 1, 0, 0, 0, 0, 1, 0, 1, 1, 1, 0, 0, 1, 1, 1, 1,\n",
       "       1, 1, 1, 1, 0, 0, 1, 0, 0, 0, 0, 1, 1, 1, 0, 1, 0, 1, 1, 0, 0, 1,\n",
       "       1, 1, 0, 1, 1, 0, 1, 0, 0, 1, 1, 0, 0, 1, 0, 0, 0, 1, 1, 1, 1, 0,\n",
       "       0, 0, 0, 1, 0, 0, 0, 0, 0, 1, 1, 0, 0, 1, 1, 0, 0, 1, 1, 1, 1, 0,\n",
       "       1, 0, 1, 0, 0, 1, 1, 1, 1, 1, 1, 1, 1, 1, 0, 1, 0, 1, 0, 1, 0, 1,\n",
       "       1, 1, 0, 1, 0, 0, 1, 1, 0, 1, 1, 1, 1, 1, 0, 1, 1, 1, 0, 1, 1, 0,\n",
       "       1, 0, 1, 0, 0, 0, 1, 1, 0, 1, 1, 0, 1, 0, 0, 0, 0, 1, 1, 1, 1, 1,\n",
       "       1, 0, 0, 0, 1, 0, 1, 1, 1, 0, 1, 0, 1, 1, 1, 1, 1, 0, 1, 1, 1, 1,\n",
       "       1, 1, 1, 1, 1, 0, 0, 0, 0, 1, 0, 0, 1, 0, 0, 1, 1, 1, 0, 1, 0, 0,\n",
       "       0, 0, 1, 1, 1, 0, 1, 0, 1, 0, 0, 0, 0, 1, 1, 0, 0, 0, 0, 1, 0, 0,\n",
       "       0, 1, 1, 0, 1, 1, 1, 1, 0, 1, 1, 1, 0, 0, 0, 0, 1, 0, 0, 0, 0, 1,\n",
       "       2, 2, 2, 2, 2, 2, 2, 2, 2, 2, 2, 1, 2, 2, 1, 2, 0, 0, 2, 2, 1, 2,\n",
       "       2, 2, 2, 2, 2, 2, 0, 2, 2, 2, 2, 1, 2, 2, 2, 2, 2, 2, 2, 2, 1, 2,\n",
       "       2, 1, 1, 2, 2, 1, 2, 2, 1, 1, 1, 1, 2, 2, 0, 2, 1, 2, 2, 2, 0, 2,\n",
       "       2, 0, 2, 2, 2, 0, 0, 2, 1, 2, 0, 1, 1, 2, 2, 2, 0, 2, 2, 0, 2, 1,\n",
       "       1, 2, 2, 1, 2, 2, 2, 2, 2, 1, 1, 2, 2, 2, 1, 2, 0, 2, 2, 2, 0, 2,\n",
       "       0, 1, 2, 0, 1, 2, 2, 1, 1, 1, 1, 2, 0, 1, 0, 2, 1, 2, 2, 2, 0, 2,\n",
       "       0, 1, 1, 1, 2, 1, 2, 1, 2, 2, 2, 2, 2, 2, 2, 2, 2, 0, 2, 1, 2, 0,\n",
       "       2, 1, 2, 1, 0, 2, 2, 2, 0, 0, 1, 1, 2, 2, 0, 2, 1, 0, 2, 2, 2, 1,\n",
       "       2, 2, 2, 2, 0, 2, 2, 2, 2, 0, 2, 2, 1, 2, 0, 2, 2, 1, 0, 2, 2, 2,\n",
       "       2, 2, 2, 1, 2, 2, 2, 1, 0, 2, 0, 0, 2, 0, 2, 1, 1, 2, 3, 2, 3, 3,\n",
       "       2, 3, 3, 3, 2, 3, 3, 3, 3, 2, 3, 3, 2, 3, 3, 3, 3, 3, 2, 3, 3, 3,\n",
       "       3, 3, 3, 3, 2, 2, 3, 3, 3, 3, 3, 3, 3, 3, 3, 2, 3, 2, 2, 3, 3, 3],\n",
       "      dtype=int32)"
      ]
     },
     "execution_count": 11,
     "metadata": {},
     "output_type": "execute_result"
    }
   ],
   "source": [
    "kmeans = KMeans(n_clusters = 4).fit(X)\n",
    "pred_clusters = kmeans.predict(X)\n",
    "pred_clusters"
   ]
  },
  {
   "cell_type": "code",
   "execution_count": 7,
   "id": "eaf64f37",
   "metadata": {},
   "outputs": [],
   "source": [
    "import matplotlib.pyplot as plt"
   ]
  },
  {
   "cell_type": "code",
   "execution_count": 8,
   "id": "242ac81a",
   "metadata": {},
   "outputs": [],
   "source": [
    "def plot_elbow(X, k):\n",
    "    plt.plot(calculate_WSS(X, k))"
   ]
  },
  {
   "cell_type": "code",
   "execution_count": 9,
   "id": "7ae5ed52",
   "metadata": {},
   "outputs": [
    {
     "data": {
      "image/png": "[encoded data removed]",
      "text/plain": [
       "<Figure size 432x288 with 1 Axes>"
      ]
     },
     "metadata": {
      "needs_background": "light"
     },
     "output_type": "display_data"
    }
   ],
   "source": [
    "plot_elbow(X, 10)"
   ]
  },
  {
   "cell_type": "code",
   "execution_count": 40,
   "id": "01a37498",
   "metadata": {},
   "outputs": [],
   "source": [
    "def PCA(X, n_components):\n",
    "    cov_mat = np.cov(X , rowvar = False)\n",
    "    eigen_values , eigen_vectors = np.linalg.eigh(cov_mat)\n",
    "    sorted_index = np.argsort(eigen_values)[::-1]\n",
    "    sorted_eigenvalue = eigen_values[sorted_index]\n",
    "    sorted_eigenvectors = eigen_vectors[:,sorted_index]\n",
    "     #you can select any number of components.\n",
    "    eigenvector_subset = sorted_eigenvectors[:,0:n_components]\n",
    "    X_reduced = np.dot(eigenvector_subset.transpose(),X.transpose()).transpose()\n",
    "    return X_reduced"
   ]
  },
  {
   "cell_type": "code",
   "execution_count": 30,
   "id": "f8a3c361",
   "metadata": {},
   "outputs": [
    {
     "data": {
      "text/plain": [
       "660"
      ]
     },
     "execution_count": 30,
     "metadata": {},
     "output_type": "execute_result"
    }
   ],
   "source": [
    "X_reduced = PCA(X, 2)\n",
    "len(X_reduced)"
   ]
  },
  {
   "cell_type": "code",
   "execution_count": 31,
   "id": "21d0ae20",
   "metadata": {},
   "outputs": [
    {
     "data": {
      "text/plain": [
       "4"
      ]
     },
     "execution_count": 31,
     "metadata": {},
     "output_type": "execute_result"
    }
   ],
   "source": [
    "len(centroids)"
   ]
  },
  {
   "cell_type": "code",
   "execution_count": 9,
   "id": "797f3e4f",
   "metadata": {},
   "outputs": [],
   "source": [
    "dim1=[]\n",
    "dim2=[]\n",
    "for x in X_reduced:\n",
    "    dim1.append(x[0])\n",
    "    dim2.append(x[1])"
   ]
  },
  {
   "cell_type": "code",
   "execution_count": 10,
   "id": "1235eb56",
   "metadata": {},
   "outputs": [
    {
     "data": {
      "text/plain": [
       "<matplotlib.collections.PathCollection at 0x7f87382ce6d0>"
      ]
     },
     "execution_count": 10,
     "metadata": {},
     "output_type": "execute_result"
    },
    {
     "data": {
      "image/png": "[encoded data removed]",
      "text/plain": [
       "<Figure size 432x288 with 1 Axes>"
      ]
     },
     "metadata": {
      "needs_background": "light"
     },
     "output_type": "display_data"
    }
   ],
   "source": [
    "plt.scatter(dim1, dim2)"
   ]
  },
  {
   "cell_type": "code",
   "execution_count": 49,
   "id": "3c8e8e58",
   "metadata": {},
   "outputs": [],
   "source": [
    "def plot_clusters(clusters, X, dims=2):\n",
    "    \n",
    "    dim1=[]\n",
    "    dim2=[]\n",
    "    \n",
    "    X_reduced = PCA(X, 2)\n",
    "    \n",
    "    for x in X_reduced:\n",
    "        dim1.append(x[0])\n",
    "        dim2.append(x[1])\n",
    "            \n",
    "    \n",
    "    for i in range(len(X_reduced)):\n",
    "        colors = [ 'y', 'c', 'm','r', 'b', 'g',]\n",
    "        idx=cluster[i]\n",
    "        color=colors[idx]\n",
    "        plt.plot(dim1[i], dim2[i], marker=\"o\", markeredgecolor=color, markerfacecolor=color)"
   ]
  },
  {
   "cell_type": "code",
   "execution_count": 50,
   "id": "2c1af925",
   "metadata": {},
   "outputs": [
    {
     "data": {
      "image/png": "[encoded data removed]",
      "text/plain": [
       "<Figure size 432x288 with 1 Axes>"
      ]
     },
     "metadata": {
      "needs_background": "light"
     },
     "output_type": "display_data"
    }
   ],
   "source": [
    "plot_clusters(cluster, X)"
   ]
  },
  {
   "cell_type": "code",
   "execution_count": 12,
   "id": "aeed7ad3",
   "metadata": {},
   "outputs": [
    {
     "name": "stdout",
     "output_type": "stream",
     "text": [
      "0.925\n"
     ]
    }
   ],
   "source": [
    "from sklearn.metrics import accuracy_score\n",
    "from sklearn.model_selection import train_test_split\n",
    "from sklearn.cluster import KMeans\n",
    "from statsbox import Decision_Tree\n",
    "import random\n",
    "import numpy as np\n",
    "from matplotlib import pyplot as plt\n",
    "import pandas as pd\n",
    "\n",
    "df = pd.read_csv(\"../drug200.csv\")\n",
    "col_names = ['Age', 'Sex', 'BP', 'Cholesterol', 'Na_to_K', 'Drug']\n",
    "data = df\n",
    "X = data.iloc[:, :-1].values\n",
    "Y = data.iloc[:, -1].values.reshape(-1, 1)\n",
    "X_train, X_test, Y_train, Y_test = train_test_split(\n",
    "    X, Y, test_size=.2, random_state=41)\n",
    "\n",
    "classifier = Decision_Tree.DecisionTreeClassifier(\n",
    "    min_samples_split=3, max_depth=3)\n",
    "# classifier.fit(X_train,Y_train)\n",
    "\n",
    "classifier.fit(X_train, Y_train, 'entropy')\n",
    "\n",
    "Y_pred = classifier.predict(X_test)\n",
    "print(accuracy_score(Y_test, Y_pred))\n"
   ]
  },
  {
   "cell_type": "code",
   "execution_count": 13,
   "id": "7e8deb9f",
   "metadata": {},
   "outputs": [
    {
     "name": "stdout",
     "output_type": "stream",
     "text": [
      "         0         1         2         3         4         5         6    \\\n",
      "0   0.000000  0.000000  0.000000  0.000000  0.000000  0.000000  0.000000   \n",
      "1   0.000000  0.000000  0.000000  0.000000  0.000000  0.000000  0.000000   \n",
      "2   0.000000  0.028916  0.000000  0.000000  0.000000  0.000000  0.028916   \n",
      "3   0.000000  0.000000  0.000000  0.000000  0.000000  0.000000  0.000000   \n",
      "4   0.000000  0.000000  0.000000  0.000000  0.000000  0.000000  0.000000   \n",
      "5   0.000000  0.000000  0.000000  0.000000  0.000000  0.000000  0.000000   \n",
      "6   0.000000  0.000000  0.000000  0.016255  0.000000  0.000000  0.000000   \n",
      "7   0.000000  0.000000  0.000000  0.000000  0.000000  0.000000  0.000000   \n",
      "8   0.000000  0.000000  0.000000  0.000000  0.050223  0.000000  0.000000   \n",
      "9   0.000000  0.000000  0.000000  0.000000  0.000000  0.000000  0.000000   \n",
      "10  0.000000  0.000000  0.000000  0.000000  0.000000  0.000000  0.000000   \n",
      "11  0.000000  0.000000  0.000000  0.000000  0.000000  0.000000  0.000000   \n",
      "12  0.000000  0.000000  0.000000  0.018394  0.000000  0.000000  0.000000   \n",
      "13  0.000000  0.000000  0.000000  0.000000  0.000000  0.000000  0.000000   \n",
      "14  0.000000  0.000000  0.000000  0.000000  0.000000  0.000000  0.000000   \n",
      "15  0.000000  0.059640  0.000000  0.000000  0.059640  0.000000  0.000000   \n",
      "16  0.000000  0.000000  0.045845  0.000000  0.000000  0.000000  0.000000   \n",
      "17  0.000000  0.000000  0.000000  0.046598  0.000000  0.000000  0.000000   \n",
      "18  0.000000  0.000000  0.000000  0.000000  0.000000  0.000000  0.000000   \n",
      "19  0.000000  0.000000  0.000000  0.000000  0.000000  0.000000  0.000000   \n",
      "20  0.027954  0.000000  0.000000  0.017048  0.000000  0.000000  0.000000   \n",
      "21  0.000000  0.000000  0.000000  0.000000  0.000000  0.000000  0.000000   \n",
      "22  0.000000  0.000000  0.000000  0.000000  0.000000  0.026048  0.000000   \n",
      "23  0.000000  0.000000  0.000000  0.000000  0.000000  0.000000  0.000000   \n",
      "24  0.000000  0.000000  0.000000  0.000000  0.000000  0.000000  0.000000   \n",
      "25  0.000000  0.000000  0.000000  0.000000  0.000000  0.000000  0.000000   \n",
      "26  0.000000  0.000000  0.000000  0.000000  0.000000  0.000000  0.000000   \n",
      "27  0.000000  0.000000  0.000000  0.000000  0.000000  0.000000  0.000000   \n",
      "28  0.000000  0.000000  0.000000  0.000000  0.000000  0.000000  0.000000   \n",
      "29  0.000000  0.000000  0.000000  0.000000  0.000000  0.000000  0.039760   \n",
      "\n",
      "         7         8         9    ...       295       296       297       298  \\\n",
      "0   0.000000  0.000000  0.000000  ...  0.000000  0.000000  0.000000  0.000000   \n",
      "1   0.000000  0.000000  0.000000  ...  0.000000  0.000000  0.000000  0.000000   \n",
      "2   0.000000  0.000000  0.000000  ...  0.000000  0.000000  0.000000  0.000000   \n",
      "3   0.000000  0.000000  0.000000  ...  0.000000  0.000000  0.000000  0.000000   \n",
      "4   0.000000  0.000000  0.000000  ...  0.000000  0.000000  0.000000  0.000000   \n",
      "5   0.000000  0.000000  0.000000  ...  0.000000  0.000000  0.000000  0.000000   \n",
      "6   0.000000  0.026654  0.000000  ...  0.026654  0.000000  0.000000  0.066575   \n",
      "7   0.000000  0.000000  0.000000  ...  0.000000  0.000000  0.000000  0.000000   \n",
      "8   0.000000  0.000000  0.000000  ...  0.000000  0.000000  0.000000  0.000000   \n",
      "9   0.000000  0.000000  0.000000  ...  0.000000  0.000000  0.000000  0.000000   \n",
      "10  0.000000  0.000000  0.000000  ...  0.000000  0.000000  0.000000  0.000000   \n",
      "11  0.000000  0.000000  0.112264  ...  0.000000  0.000000  0.000000  0.000000   \n",
      "12  0.000000  0.000000  0.000000  ...  0.000000  0.000000  0.000000  0.000000   \n",
      "13  0.000000  0.000000  0.000000  ...  0.000000  0.000000  0.000000  0.000000   \n",
      "14  0.000000  0.000000  0.000000  ...  0.000000  0.000000  0.000000  0.000000   \n",
      "15  0.000000  0.000000  0.000000  ...  0.000000  0.000000  0.000000  0.000000   \n",
      "16  0.000000  0.000000  0.000000  ...  0.000000  0.000000  0.000000  0.000000   \n",
      "17  0.000000  0.000000  0.000000  ...  0.000000  0.000000  0.000000  0.000000   \n",
      "18  0.000000  0.000000  0.000000  ...  0.000000  0.000000  0.000000  0.000000   \n",
      "19  0.000000  0.000000  0.000000  ...  0.000000  0.000000  0.000000  0.000000   \n",
      "20  0.000000  0.000000  0.023274  ...  0.000000  0.000000  0.000000  0.000000   \n",
      "21  0.000000  0.000000  0.000000  ...  0.000000  0.000000  0.000000  0.000000   \n",
      "22  0.021687  0.000000  0.000000  ...  0.000000  0.026048  0.026048  0.000000   \n",
      "23  0.000000  0.000000  0.000000  ...  0.000000  0.000000  0.000000  0.000000   \n",
      "24  0.000000  0.000000  0.000000  ...  0.000000  0.000000  0.000000  0.000000   \n",
      "25  0.000000  0.000000  0.000000  ...  0.000000  0.000000  0.000000  0.106027   \n",
      "26  0.000000  0.000000  0.000000  ...  0.000000  0.000000  0.000000  0.000000   \n",
      "27  0.000000  0.000000  0.000000  ...  0.000000  0.000000  0.000000  0.000000   \n",
      "28  0.000000  0.000000  0.000000  ...  0.000000  0.000000  0.000000  0.000000   \n",
      "29  0.039760  0.000000  0.000000  ...  0.000000  0.000000  0.000000  0.000000   \n",
      "\n",
      "        299       300       301       302       303       304  \n",
      "0   0.00000  0.000000  0.000000  0.000000  0.000000  0.000000  \n",
      "1   0.07952  0.000000  0.000000  0.000000  0.000000  0.000000  \n",
      "2   0.00000  0.000000  0.000000  0.000000  0.000000  0.000000  \n",
      "3   0.00000  0.000000  0.000000  0.000000  0.000000  0.000000  \n",
      "4   0.00000  0.000000  0.000000  0.000000  0.000000  0.000000  \n",
      "5   0.00000  0.000000  0.000000  0.000000  0.000000  0.000000  \n",
      "6   0.00000  0.000000  0.000000  0.000000  0.000000  0.000000  \n",
      "7   0.00000  0.000000  0.000000  0.000000  0.000000  0.000000  \n",
      "8   0.00000  0.050223  0.000000  0.042785  0.000000  0.000000  \n",
      "9   0.00000  0.032905  0.000000  0.000000  0.000000  0.000000  \n",
      "10  0.00000  0.000000  0.000000  0.000000  0.000000  0.000000  \n",
      "11  0.00000  0.000000  0.000000  0.000000  0.000000  0.000000  \n",
      "12  0.00000  0.000000  0.000000  0.000000  0.000000  0.000000  \n",
      "13  0.00000  0.000000  0.028031  0.028031  0.039522  0.000000  \n",
      "14  0.00000  0.000000  0.000000  0.000000  0.000000  0.000000  \n",
      "15  0.00000  0.000000  0.000000  0.000000  0.000000  0.000000  \n",
      "16  0.00000  0.000000  0.000000  0.000000  0.000000  0.000000  \n",
      "17  0.00000  0.000000  0.000000  0.000000  0.000000  0.076409  \n",
      "18  0.00000  0.000000  0.000000  0.000000  0.000000  0.000000  \n",
      "19  0.00000  0.000000  0.000000  0.000000  0.000000  0.000000  \n",
      "20  0.00000  0.000000  0.000000  0.000000  0.000000  0.000000  \n",
      "21  0.00000  0.000000  0.000000  0.000000  0.000000  0.000000  \n",
      "22  0.00000  0.000000  0.000000  0.000000  0.000000  0.000000  \n",
      "23  0.00000  0.000000  0.000000  0.000000  0.000000  0.000000  \n",
      "24  0.00000  0.000000  0.000000  0.000000  0.000000  0.000000  \n",
      "25  0.00000  0.000000  0.000000  0.000000  0.000000  0.000000  \n",
      "26  0.05964  0.000000  0.000000  0.000000  0.000000  0.000000  \n",
      "27  0.00000  0.000000  0.000000  0.000000  0.000000  0.000000  \n",
      "28  0.00000  0.000000  0.090324  0.000000  0.000000  0.000000  \n",
      "29  0.00000  0.000000  0.033871  0.033871  0.000000  0.000000  \n",
      "\n",
      "[30 rows x 305 columns]\n"
     ]
    },
    {
     "name": "stderr",
     "output_type": "stream",
     "text": [
      "/var/folders/vl/5bp0nbzd28vgxygxw50kjt4r0000gn/T/ipykernel_80576/3628652456.py:3: DtypeWarning: Columns (1,10) have mixed types. Specify dtype option on import or set low_memory=False.\n",
      "  df = pd.read_csv(\"../Amazon-data.csv\")\n"
     ]
    }
   ],
   "source": [
    "from statsbox import TF_tools as tfidf\n",
    "import pandas as pd\n",
    "df = pd.read_csv(\"../Amazon-data.csv\")\n",
    "sentences = df['reviews.text']\n",
    "x_sent = []\n",
    "for s in sentences:\n",
    "    x_sent.append(s)\n",
    "x_sent = x_sent[500:1000]\n",
    "x = x_sent[20:50]\n",
    "\n",
    "x = (tfidf.remove_stopwords(tfidf.lowercase(tfidf.remove_punctuation(x))))\n",
    "words_set = tfidf.get_word_set(x, 'set')\n",
    "\n",
    "df_tf = tfidf.TF_matrix(x, words_set, 'list')\n",
    "df_tf_idf = tfidf.TF_IDF(x, words_set, df_tf, 'list')\n",
    "\n",
    "df_tf_idf = pd.DataFrame(df_tf_idf)\n",
    "print(df_tf_idf)\n"
   ]
  },
  {
   "cell_type": "code",
   "execution_count": null,
   "id": "63e52539",
   "metadata": {},
   "outputs": [],
   "source": [
    "import numpy as np\n",
    "import pandas as pd\n",
    "from statsbox.logistic_regression import LogisticRegression\n",
    "\n",
    "# Logistic Regression Code Reference: https://towardsdatascience.com/logistic-regression-from-scratch-in-python-ec66603592e2\n",
    "# Data source: https://www.kaggle.com/code/dyasin/week24ml-weather-dataset-rattle-package-weatheraus/data \n",
    "\n",
    "def handle_nulls(df):\n",
    "    for col in df:\n",
    "        col_median=df[col].median()\n",
    "        df[col].fillna(col_median, inplace=True)\n",
    "\n",
    "df = pd.read_csv(\"weatherAUS.csv\")\n",
    "y = pd.get_dummies(df.RainTomorrow, drop_first=True)\n",
    "y = y.values.reshape(-1,1)\n",
    "\n",
    "# Drop categorical columns\n",
    "df.drop(['Date', 'Location', 'WindGustDir', 'WindDir9am', 'Evaporation', 'Sunshine', 'WindDir3pm', 'RainToday',  \"RainTomorrow\"],  axis=1, inplace=True)\n",
    "handle_nulls(df)\n",
    "\n",
    "# Normalize Data\n",
    "df = (df-df.mean())/df.std()\n",
    "X = df.values\n",
    "\n",
    "# # Split into train and test\n",
    "from sklearn.model_selection import train_test_split\n",
    "X_train, X_test, y_train, y_test = train_test_split(X, y, test_size=.2, random_state=44)\n",
    "\n",
    "logregmodel = LogisticRegression()\n",
    "\n",
    "logregmodel.fit(X_train,y_train,lr=0.01, epochs=1000, batchsize=10000)\n",
    "y_pred = logregmodel.predict(X_test)\n",
    "\n",
    "print(\"Accuracy: \",logregmodel.accuracy(y_test,y_pred))"
   ]
  },
  {
   "cell_type": "code",
   "execution_count": 19,
   "id": "2a792433",
   "metadata": {},
   "outputs": [
    {
     "name": "stderr",
     "output_type": "stream",
     "text": [
      "/Users/abhik-mac/opt/anaconda3/lib/python3.9/site-packages/sklearn/utils/validation.py:993: DataConversionWarning: A column-vector y was passed when a 1d array was expected. Please change the shape of y to (n_samples, ), for example using ravel().\n",
      "  y = column_or_1d(y, warn=True)\n"
     ]
    }
   ],
   "source": [
    "from sklearn.linear_model import LogisticRegression\n",
    "clf = LogisticRegression(random_state=0).fit(X_train, y_train)"
   ]
  },
  {
   "cell_type": "code",
   "execution_count": 20,
   "id": "89d886cc",
   "metadata": {},
   "outputs": [
    {
     "data": {
      "text/plain": [
       "0.8425684036848619"
      ]
     },
     "execution_count": 20,
     "metadata": {},
     "output_type": "execute_result"
    }
   ],
   "source": [
    "clf.score(X_test, y_test)"
   ]
  },
  {
   "cell_type": "code",
   "execution_count": null,
   "id": "d57ac57f",
   "metadata": {},
   "outputs": [],
   "source": []
  }
 ],
 "metadata": {
  "kernelspec": {
   "display_name": "Python 3 (ipykernel)",
   "language": "python",
   "name": "python3"
  },
  "language_info": {
   "codemirror_mode": {
    "name": "ipython",
    "version": 3
   },
   "file_extension": ".py",
   "mimetype": "text/x-python",
   "name": "python",
   "nbconvert_exporter": "python",
   "pygments_lexer": "ipython3",
   "version": "3.9.7"
  }
 },
 "nbformat": 4,
 "nbformat_minor": 5
}
